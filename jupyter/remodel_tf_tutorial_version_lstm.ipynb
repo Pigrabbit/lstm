{
 "cells": [
  {
   "cell_type": "markdown",
   "metadata": {},
   "source": [
    "# Forecast a multivariate time series\n",
    "\n",
    "with TensorFlow 2.0\n",
    "\n",
    "dataset: Brugge field .mat\n",
    "\n",
    "## What to implement\n",
    "\n",
    "각 well마다 104개의 모델이 있다. 이 중에서 80개는 training set으로 나머지는 validation set으로 사용한다.\n",
    "\n",
    "LSTM은 Input sequence 5개 `(t-5)~(t-1)`, Output sequence 1개`t`로 되어있다. Layer 구성은 2개의 LSTM layer, 2개의 dropout layer, 1개의 Dense layer로 한다. \n",
    "\n",
    "Inference시에 \n",
    "- 먼저 day 1004까지(index 앞의 150개)는 그대로 넣어 predict한다.\n",
    "- 그 다음부터는 이전 5개의 값으로 t에서의 value를 예측한다.\n",
    "- 가장 과거의 값(t-5)은 잊어버리고 예측한 값을 window에 넣어준다.\n",
    "- window 안에 있는 새로운 5개 timestep의 value들의 mean을 구한다.\n",
    "- 구한 mean과 일정한 std 값으로 Gaussian noise가 들어간 값으로 predict 한 값을 replace한다.\n",
    "- 즉 window의 가장 최근 값은, predict한 값이 아니라, predict_val + gaussian_noise(window_mean, std)가 들어가게 된다.\n",
    "- 이 window를 가지고 다음 t에서의 value를 예측한다."
   ]
  },
  {
   "cell_type": "markdown",
   "metadata": {},
   "source": [
    "## Setup"
   ]
  },
  {
   "cell_type": "code",
   "execution_count": 33,
   "metadata": {},
   "outputs": [],
   "source": [
    "import numpy as np\n",
    "from os.path import dirname, join as pjoin\n",
    "import scipy.io as sio\n",
    "import pandas as pd\n",
    "import matplotlib.pyplot as plt\n",
    "import tensorflow as tf\n",
    "\n",
    "DATA_PATH = '../data'\n",
    "DATA_FILE_NAME = 'Brugge_en_d.mat'\n",
    "RESULT_FILE_NAME = 'rmse_brugge.csv'\n",
    "\n",
    "TRAIN_SPLIT = 150\n",
    "BUFFER_SIZE = 1000\n",
    "BATCH_SIZE = 32\n",
    "EVALUATION_INTERVAL = 10\n",
    "EPOCHS = 10\n",
    "\n",
    "NUM_MODEL = 104\n",
    "TRUE_MODEL = 30\n",
    "TRAIN_SPLIT = 80\n",
    "NUM_FEATURES = 4\n",
    "NUM_FEATURES_USED = 1\n",
    "INPUT_SEQUENCE = 5\n",
    "FUTURE_TARGET = 0\n",
    "STEP = 1\n",
    "\n",
    "data_dir = pjoin(DATA_PATH, DATA_FILE_NAME)\n",
    "mat_contents = sio.loadmat(data_dir)\n",
    "\n",
    "data = mat_contents['en_d'][0, 0]\n",
    "\n",
    "# tf.debugging.set_log_device_placement(True)"
   ]
  },
  {
   "cell_type": "markdown",
   "metadata": {},
   "source": [
    "## Data Preparation"
   ]
  },
  {
   "cell_type": "code",
   "execution_count": 34,
   "metadata": {},
   "outputs": [],
   "source": [
    "well_dic = {}\n",
    "\n",
    "for well_index in range(20): # well, Producer P1-P20\n",
    "    # 'model_num' => dataframe\n",
    "    model_dic = {}\n",
    "    well_key = 'P' + str(well_index+1)\n",
    "    for model_index in range(104): # model, model 1-104\n",
    "        well_data = np.array([\n",
    "            data['WOPR'][0,0][well_key][:,model_index],\n",
    "            data['WBHP'][0,0][well_key][:,model_index],\n",
    "            data['WWCT'][0,0][well_key][:,model_index],\n",
    "            data['WWPR'][0,0][well_key][:,model_index]\n",
    "          ])\n",
    "        # col1: WOPR, col2: WBHP, col3: WWCT, col4: WWPR\n",
    "        # row1: day1, ... row 498: day3648\n",
    "        well_data = well_data.T\n",
    "        df = pd.DataFrame(\n",
    "            data=well_data,\n",
    "            columns=['WOPR', 'WBHP', 'WWCT', 'WWPR']\n",
    "        )\n",
    "        model_dic[str(model_index+1)] = df\n",
    "        \n",
    "    well_dic[str(well_index+1)] = model_dic"
   ]
  },
  {
   "cell_type": "code",
   "execution_count": 3,
   "metadata": {},
   "outputs": [],
   "source": [
    "def plot_single_well(well_dic, well_num):\n",
    "    ax = plt.gca()\n",
    "    true_model_num = 103\n",
    "    for i in range(104):\n",
    "        df = well_dic[str(well_num)][str(i+1)]\n",
    "        if i == true_model_num:\n",
    "#         if i == 80:\n",
    "            df.plot(y='WOPR', ax=ax, color='red', legend=False)\n",
    "#             df.plot(y='WOPR', ax=ax, color='gray', legend=False)\n",
    "        else:\n",
    "            df.plot(y='WOPR', ax=ax, color='gray', legend=False)\n",
    "            \n",
    "    plt.show()"
   ]
  },
  {
   "cell_type": "code",
   "execution_count": 4,
   "metadata": {},
   "outputs": [
    {
     "data": {
      "image/png": "[encoded data removed]",
      "text/plain": [
       "<Figure size 432x288 with 1 Axes>"
      ]
     },
     "metadata": {
      "needs_background": "light"
     },
     "output_type": "display_data"
    }
   ],
   "source": [
    "plot_single_well(well_dic, 9)"
   ]
  },
  {
   "cell_type": "markdown",
   "metadata": {},
   "source": [
    "# Data Preprocessing"
   ]
  },
  {
   "cell_type": "code",
   "execution_count": 35,
   "metadata": {},
   "outputs": [],
   "source": [
    "well9 = well_dic['9']"
   ]
  },
  {
   "cell_type": "code",
   "execution_count": 36,
   "metadata": {},
   "outputs": [],
   "source": [
    "# Todo \n",
    "# delte rows where WOPR is zero\n",
    "def remove_zero_wopr(well):\n",
    "    for model_index in well:\n",
    "        df = well9[model_index]\n",
    "        well9[model_index] = df[df.WOPR != 0]"
   ]
  },
  {
   "cell_type": "code",
   "execution_count": 37,
   "metadata": {},
   "outputs": [],
   "source": [
    "remove_zero_wopr(well9)"
   ]
  },
  {
   "cell_type": "code",
   "execution_count": 38,
   "metadata": {},
   "outputs": [],
   "source": [
    "def serialize_well_dataframe(well):\n",
    "    serialized_well = np.empty((0, 4))\n",
    "    end_indice = []\n",
    "    for model in well:\n",
    "        dataset = well[str(model)].values\n",
    "        serialized_well = np.concatenate((serialized_well, dataset))\n",
    "        num_timesteps = dataset.shape[0]\n",
    "        if len(end_indice) == 0:\n",
    "            end_indice.append(num_timesteps)\n",
    "        else:\n",
    "            end_indice.append(num_timesteps + end_indice[-1])\n",
    "    return serialized_well, end_indice"
   ]
  },
  {
   "cell_type": "code",
   "execution_count": 39,
   "metadata": {},
   "outputs": [],
   "source": [
    "serialized_dataset, end_indice = serialize_well_dataframe(well9)"
   ]
  },
  {
   "cell_type": "code",
   "execution_count": 10,
   "metadata": {},
   "outputs": [
    {
     "data": {
      "text/plain": [
       "(42952, 4)"
      ]
     },
     "execution_count": 10,
     "metadata": {},
     "output_type": "execute_result"
    }
   ],
   "source": [
    "serialized_dataset.shape"
   ]
  },
  {
   "cell_type": "code",
   "execution_count": null,
   "metadata": {},
   "outputs": [],
   "source": [
    "serialized_dataset[:end_indice[0]]"
   ]
  },
  {
   "cell_type": "code",
   "execution_count": null,
   "metadata": {},
   "outputs": [],
   "source": [
    "serialized_dataset[end_indice[102]:end_indice[103]]"
   ]
  },
  {
   "cell_type": "code",
   "execution_count": 40,
   "metadata": {},
   "outputs": [],
   "source": [
    "from sklearn.preprocessing import MinMaxScaler\n",
    "\n",
    "def scale_model_separately(serialized_dataset, end_indice):\n",
    "    scaler_min = []\n",
    "    scaler_scale = []\n",
    "    scaled_dataset = np.empty((0, 4))\n",
    "\n",
    "    for i in range(len(end_indice)):\n",
    "        scaler = MinMaxScaler()\n",
    "        start_index = end_indice[i-1] if i > 0 else 0\n",
    "        end_index = end_indice[i]\n",
    "#         print(f\"scaling from {start_index} to {end_index-1}\")\n",
    "    \n",
    "        scaler.fit(serialized_dataset[start_index:end_index])\n",
    "#         print(f\"scaler_min: {scaler.min_[0]}, scaler_scale: {scaler.scale_[0]}\")\n",
    "        \n",
    "        transformed = scaler.transform(serialized_dataset[start_index:end_index])\n",
    "        scaled_dataset = np.concatenate((scaled_dataset, transformed))\n",
    "        scaler_min.append(scaler.min_[0])\n",
    "        scaler_scale.append(scaler.scale_[0])\n",
    "        \n",
    "    return scaled_dataset, scaler_min, scaler_scale"
   ]
  },
  {
   "cell_type": "code",
   "execution_count": 41,
   "metadata": {},
   "outputs": [],
   "source": [
    "scaled_dataset, scaler_min, scaler_scale = scale_model_separately(serialized_dataset, end_indice)"
   ]
  },
  {
   "cell_type": "code",
   "execution_count": 42,
   "metadata": {},
   "outputs": [
    {
     "data": {
      "text/plain": [
       "(42952, 4)"
      ]
     },
     "execution_count": 42,
     "metadata": {},
     "output_type": "execute_result"
    }
   ],
   "source": [
    "scaled_dataset.shape"
   ]
  },
  {
   "cell_type": "code",
   "execution_count": null,
   "metadata": {},
   "outputs": [],
   "source": [
    "scaled_dataset[:end_indice[0]].shape"
   ]
  },
  {
   "cell_type": "code",
   "execution_count": null,
   "metadata": {},
   "outputs": [],
   "source": [
    "scaled_dataset[:end_indice[0]]"
   ]
  },
  {
   "cell_type": "code",
   "execution_count": null,
   "metadata": {},
   "outputs": [],
   "source": [
    "scaled_dataset[end_indice[100]:end_indice[102]]"
   ]
  },
  {
   "cell_type": "code",
   "execution_count": null,
   "metadata": {},
   "outputs": [],
   "source": [
    "len(scaler_min), len(scaler_scale)"
   ]
  },
  {
   "cell_type": "code",
   "execution_count": 43,
   "metadata": {},
   "outputs": [],
   "source": [
    "# Todo\n",
    "# Make multivariate dataset\n",
    "def multivariate_data(dataset, target, start_index, end_index, history_size,\n",
    "                      target_size, step, single_step=False):\n",
    "  data = []\n",
    "  labels = []\n",
    "\n",
    "  start_index = start_index + history_size\n",
    "  if end_index is None:\n",
    "    end_index = len(dataset) - target_size\n",
    "\n",
    "  for i in range(start_index, end_index):\n",
    "    indices = range(i-history_size, i, step)\n",
    "#     print(indices)\n",
    "    data.append(dataset[indices])\n",
    "\n",
    "    if single_step:\n",
    "      labels.append(target[i+target_size])\n",
    "    else:\n",
    "      labels.append(target[i:i+target_size])\n",
    "\n",
    "  return np.array(data), np.array(labels)"
   ]
  },
  {
   "cell_type": "code",
   "execution_count": null,
   "metadata": {},
   "outputs": [],
   "source": [
    "# serialized_train_x = np.empty((0, 5, 2))\n",
    "# serialized_train_y = np.empty((0))\n",
    "\n",
    "# past_history = 5\n",
    "# future_target = 0\n",
    "# STEP = 1\n",
    "# train_split = 80\n",
    "# num_models = 104\n",
    "# model_list = list(range(1, num_models+1))\n",
    "\n",
    "# def choose_training_set(scaled_dataset, end_indice):\n",
    "#     training_set = np.empty((0, 4))\n",
    "#     train_end_indice = []\n",
    "#     num_models = 104\n",
    "#     model_list = list(range(1, num_models+1))\n",
    "#     train_set_size = 80\n",
    "#     count = 0\n",
    "#     while (count < train_set_size): \n",
    "#         chosen_model = random.choice(model_list)\n",
    "#         if (chosen_model != 1) :\n",
    "#             start_index = end_indice[chosen_model-2]\n",
    "#             end_index = end_indice[chosen_model-1]\n",
    "#         else:\n",
    "#             start_index = 0;\n",
    "#             end_index = end_indice[chosen_model-1]\n",
    "#         training_set = np.concatenate((training_set, scaled_dataset[start_index: end_index]))\n",
    "#         if (count == 0):\n",
    "#             train_end_indice.append(end_index - start_index)\n",
    "#         else :\n",
    "#             train_end_indice.append(train_end_indice[count-1] + (end_index - start_index))\n",
    "#         count += 1\n",
    "#     return training_set, train_end_indice"
   ]
  },
  {
   "cell_type": "code",
   "execution_count": 44,
   "metadata": {},
   "outputs": [],
   "source": [
    "import random\n",
    "random.seed(2)\n",
    "\n",
    "def split_train(test_model):\n",
    "    model_list = list(range(NUM_MODEL))\n",
    "    train = []\n",
    "    test = [test_model]\n",
    "    model_list.remove(test_model)\n",
    "    for i in range(TRAIN_SPLIT):\n",
    "        chosen = random.choice(model_list)\n",
    "        train.append(chosen)\n",
    "        model_list.remove(chosen)\n",
    "\n",
    "    val = model_list\n",
    "    return train, val, test"
   ]
  },
  {
   "cell_type": "code",
   "execution_count": 45,
   "metadata": {},
   "outputs": [],
   "source": [
    "train_model_list, val_model_list, test_model_list = split_train(test_model=TRUE_MODEL)"
   ]
  },
  {
   "cell_type": "code",
   "execution_count": 46,
   "metadata": {},
   "outputs": [],
   "source": [
    "def get_dataset(serialized_well, model_list, end_indice):\n",
    "    dataset_x = np.empty((0, INPUT_SEQUENCE, NUM_FEATURES_USED))\n",
    "    dataset_y = np.empty((0))\n",
    "\n",
    "    for i in range(len(model_list)):\n",
    "        start_index = end_indice[model_list[i]-1] if model_list[i] > 0 else 0 \n",
    "        end_index = end_indice[model_list[i]]\n",
    "        range_multi_x, range_multi_y = multivariate_data(\n",
    "            serialized_well[start_index:end_index][:, :NUM_FEATURES_USED],\n",
    "            serialized_well[start_index:end_index][:, 0],\n",
    "            start_index = 0,\n",
    "            end_index = end_index - start_index,\n",
    "            history_size = INPUT_SEQUENCE,\n",
    "            target_size = FUTURE_TARGET,\n",
    "            step = STEP,\n",
    "            single_step = True\n",
    "        )\n",
    "        dataset_x = np.concatenate((dataset_x, range_multi_x))\n",
    "        dataset_y = np.concatenate((dataset_y, range_multi_y))\n",
    "\n",
    "    return dataset_x, dataset_y"
   ]
  },
  {
   "cell_type": "code",
   "execution_count": 47,
   "metadata": {},
   "outputs": [],
   "source": [
    "train_x, train_y = get_dataset(scaled_dataset, train_model_list, end_indice)\n",
    "val_x, val_y = get_dataset(scaled_dataset, val_model_list, end_indice)\n",
    "test_x, test_y = get_dataset(scaled_dataset, test_model_list, end_indice)"
   ]
  },
  {
   "cell_type": "code",
   "execution_count": 48,
   "metadata": {},
   "outputs": [
    {
     "data": {
      "text/plain": [
       "((32640, 5, 1), (32640,))"
      ]
     },
     "execution_count": 48,
     "metadata": {},
     "output_type": "execute_result"
    }
   ],
   "source": [
    "train_x.shape, train_y.shape"
   ]
  },
  {
   "cell_type": "code",
   "execution_count": 49,
   "metadata": {},
   "outputs": [
    {
     "data": {
      "text/plain": [
       "((9384, 5, 1), (9384,))"
      ]
     },
     "execution_count": 49,
     "metadata": {},
     "output_type": "execute_result"
    }
   ],
   "source": [
    "val_x.shape, val_y.shape"
   ]
  },
  {
   "cell_type": "code",
   "execution_count": 50,
   "metadata": {},
   "outputs": [],
   "source": [
    "train_data = tf.data.Dataset.from_tensor_slices((train_x, train_y))\n",
    "train_data = train_data.cache().shuffle(BUFFER_SIZE).batch(BATCH_SIZE).repeat()\n",
    "train_data = train_data.prefetch(1)"
   ]
  },
  {
   "cell_type": "code",
   "execution_count": 51,
   "metadata": {},
   "outputs": [],
   "source": [
    "val_data = tf.data.Dataset.from_tensor_slices((val_x, val_y))\n",
    "val_data = val_data.batch(BATCH_SIZE).repeat()"
   ]
  },
  {
   "cell_type": "code",
   "execution_count": null,
   "metadata": {},
   "outputs": [],
   "source": []
  },
  {
   "cell_type": "code",
   "execution_count": null,
   "metadata": {},
   "outputs": [],
   "source": []
  },
  {
   "cell_type": "code",
   "execution_count": null,
   "metadata": {},
   "outputs": [],
   "source": []
  },
  {
   "cell_type": "code",
   "execution_count": null,
   "metadata": {},
   "outputs": [],
   "source": [
    "training_set, train_end_indice = choose_training_set(scaled_dataset, end_indice)"
   ]
  },
  {
   "cell_type": "code",
   "execution_count": null,
   "metadata": {},
   "outputs": [],
   "source": [
    "training_set.shape"
   ]
  },
  {
   "cell_type": "code",
   "execution_count": null,
   "metadata": {},
   "outputs": [],
   "source": [
    "for i in range(train_split):\n",
    "    start_index = end_indice[i-1] if i > 0 else 0\n",
    "    end_index = end_indice[i]\n",
    "#     print(f\"converting to multivar from {start_index} to {end_index-1}\")\n",
    "    range_multi_x, range_multi_y = multivariate_data(\n",
    "#         serialized_dataset[start_index:end_index][:, :2],\n",
    "#         serialized_dataset[start_index:end_index][:, 0],\n",
    "        training_set[start_index:end_index][:, :2],\n",
    "        training_set[start_index:end_index][:, 0],\n",
    "        start_index = 0,\n",
    "        end_index = end_index - start_index,\n",
    "        history_size = past_history,\n",
    "        target_size = future_target,\n",
    "        step = STEP,\n",
    "        single_step = True\n",
    "    )\n",
    "#     print(range_multi_x.shape)\n",
    "#     print(range_multi_y.shape)\n",
    "    serialized_train_x = np.concatenate((serialized_train_x, range_multi_x))\n",
    "    serialized_train_y = np.concatenate((serialized_train_y, range_multi_y))"
   ]
  },
  {
   "cell_type": "code",
   "execution_count": null,
   "metadata": {},
   "outputs": [],
   "source": [
    "serialized_train_x.shape, serialized_train_y.shape"
   ]
  },
  {
   "cell_type": "code",
   "execution_count": null,
   "metadata": {},
   "outputs": [],
   "source": [
    "#  validate the data set\n",
    "plt.figure()\n",
    "\n",
    "plt.scatter(y=serialized_train_x[250:260, 0, 0], x = range(10), label='t-5')\n",
    "plt.scatter(y=serialized_train_x[250:260, 1, 0], x = range(10), label='t-4')\n",
    "plt.scatter(y=serialized_train_x[250:260, 2, 0], x = range(10), label='t-3')\n",
    "plt.scatter(y=serialized_train_x[250:260, 3, 0], x = range(10), label='t-2')\n",
    "plt.scatter(y=serialized_train_x[250:260, 4, 0], x = range(10), label='t-1')\n",
    "plt.scatter(y=serialized_train_y[250:260], x=range(10), label='t')\n",
    "\n",
    "plt.legend()\n",
    "plt.show()"
   ]
  },
  {
   "cell_type": "code",
   "execution_count": null,
   "metadata": {},
   "outputs": [],
   "source": [
    "serialized_val_x = np.empty((0, 5, 2))\n",
    "serialized_val_y = np.empty((0))\n",
    "\n",
    "for i in range(train_split, 103, 1):\n",
    "    start_index = end_indice[i-1] if i > 0 else 0\n",
    "    end_index = end_indice[i]\n",
    "#     print(f\"converting to multivar from {start_index} to {end_index-1}\")\n",
    "    range_multi_x, range_multi_y = multivariate_data(\n",
    "        serialized_dataset[start_index:end_index][:, :2],\n",
    "        serialized_dataset[start_index:end_index][:, 0],\n",
    "        start_index = 0,\n",
    "        end_index = end_index - start_index,\n",
    "        history_size = past_history,\n",
    "        target_size = future_target,\n",
    "        step = STEP,\n",
    "        single_step = True\n",
    "    )\n",
    "#     print(range_multi_x.shape)\n",
    "#     print(range_multi_y.shape)\n",
    "    serialized_val_x = np.concatenate((serialized_val_x, range_multi_x))\n",
    "    serialized_val_y = np.concatenate((serialized_val_y, range_multi_y))"
   ]
  },
  {
   "cell_type": "code",
   "execution_count": null,
   "metadata": {},
   "outputs": [],
   "source": [
    "serialized_val_x.shape, serialized_val_y.shape"
   ]
  },
  {
   "cell_type": "code",
   "execution_count": null,
   "metadata": {},
   "outputs": [],
   "source": [
    "serialized_test_x = np.empty((0, 5, 2))\n",
    "serialized_test_y = np.empty((0))\n",
    "\n",
    "for i in range(103, 104):\n",
    "    start_index = end_indice[i-1] if i > 0 else 0\n",
    "    end_index = end_indice[i]\n",
    "    print(f\"converting to multivar from {start_index} to {end_index-1}\")\n",
    "    range_multi_x, range_multi_y = multivariate_data(\n",
    "        serialized_dataset[start_index:end_index][:, :2],\n",
    "        serialized_dataset[start_index:end_index][:, 0],\n",
    "        start_index = 0,\n",
    "        end_index = end_index - start_index,\n",
    "        history_size = past_history,\n",
    "        target_size = future_target,\n",
    "        step = STEP,\n",
    "        single_step = True\n",
    "    )\n",
    "    serialized_test_x = np.concatenate((serialized_test_x, range_multi_x))\n",
    "    serialized_test_y = np.concatenate((serialized_test_y, range_multi_y))"
   ]
  },
  {
   "cell_type": "code",
   "execution_count": null,
   "metadata": {},
   "outputs": [],
   "source": [
    "serialized_test_x.shape, serialized_test_y.shape"
   ]
  },
  {
   "cell_type": "code",
   "execution_count": null,
   "metadata": {},
   "outputs": [],
   "source": [
    "train_data = tf.data.Dataset.from_tensor_slices((serialized_train_x, serialized_train_y))\n",
    "train_data = train_data.cache().shuffle(BUFFER_SIZE).batch(BATCH_SIZE).repeat()\n",
    "train_data = train_data.prefetch(1)\n",
    "\n",
    "val_data = tf.data.Dataset.from_tensor_slices((serialized_val_x, serialized_val_y))\n",
    "val_data = val_data.batch(BATCH_SIZE).repeat()"
   ]
  },
  {
   "cell_type": "code",
   "execution_count": null,
   "metadata": {},
   "outputs": [],
   "source": [
    "test_data = tf.data.Dataset.from_tensor_slices((serialized_test_x, serialized_test_y))"
   ]
  },
  {
   "cell_type": "markdown",
   "metadata": {},
   "source": [
    "# Define model and Train"
   ]
  },
  {
   "cell_type": "code",
   "execution_count": 52,
   "metadata": {},
   "outputs": [],
   "source": [
    "lstm1_units = 50\n",
    "lstm2_units = 50\n",
    "gaussian_std = 0.1\n",
    "dropout_rate = 0.2\n",
    "\n",
    "single_step_model = tf.keras.models.Sequential()\n",
    "single_step_model.add(tf.keras.layers.GaussianNoise(gaussian_std, input_shape=train_x.shape[-2:]))\n",
    "\n",
    "single_step_model.add(tf.keras.layers.LSTM(lstm1_units, activation='relu',return_sequences=True))\n",
    "single_step_model.add(tf.keras.layers.Dropout(dropout_rate))\n",
    "\n",
    "single_step_model.add(tf.keras.layers.LSTM(lstm2_units, activation='relu', return_sequences = True))\n",
    "single_step_model.add(tf.keras.layers.Dropout(dropout_rate))\n",
    "\n",
    "single_step_model.add(tf.keras.layers.Dense(1))\n",
    "\n",
    "single_step_model.compile(optimizer='adam', loss='mean_squared_error')\n",
    "\n",
    "es = tf.keras.callbacks.EarlyStopping(monitor='val_loss', mode='min', patience=50, verbose=1)"
   ]
  },
  {
   "cell_type": "code",
   "execution_count": 53,
   "metadata": {},
   "outputs": [
    {
     "name": "stdout",
     "output_type": "stream",
     "text": [
      "Model: \"sequential_1\"\n",
      "_________________________________________________________________\n",
      "Layer (type)                 Output Shape              Param #   \n",
      "=================================================================\n",
      "gaussian_noise_1 (GaussianNo (None, 5, 1)              0         \n",
      "_________________________________________________________________\n",
      "lstm_2 (LSTM)                (None, 5, 50)             10400     \n",
      "_________________________________________________________________\n",
      "dropout_2 (Dropout)          (None, 5, 50)             0         \n",
      "_________________________________________________________________\n",
      "lstm_3 (LSTM)                (None, 5, 50)             20200     \n",
      "_________________________________________________________________\n",
      "dropout_3 (Dropout)          (None, 5, 50)             0         \n",
      "_________________________________________________________________\n",
      "dense_1 (Dense)              (None, 5, 1)              51        \n",
      "=================================================================\n",
      "Total params: 30,651\n",
      "Trainable params: 30,651\n",
      "Non-trainable params: 0\n",
      "_________________________________________________________________\n"
     ]
    }
   ],
   "source": [
    "single_step_model.summary()"
   ]
  },
  {
   "cell_type": "code",
   "execution_count": 54,
   "metadata": {},
   "outputs": [
    {
     "name": "stdout",
     "output_type": "stream",
     "text": [
      "(32, 5, 1)\n"
     ]
    }
   ],
   "source": [
    "for x, y in val_data.take(1):\n",
    "  print(single_step_model.predict(x).shape)"
   ]
  },
  {
   "cell_type": "code",
   "execution_count": 55,
   "metadata": {},
   "outputs": [
    {
     "name": "stdout",
     "output_type": "stream",
     "text": [
      "Train for 1020 steps, validate for 293 steps\n",
      "Epoch 1/10\n",
      "1020/1020 [==============================] - 22s 22ms/step - loss: 0.0187 - val_loss: 0.0050\n",
      "Epoch 2/10\n",
      "1020/1020 [==============================] - 17s 17ms/step - loss: 0.0053 - val_loss: 0.0041\n",
      "Epoch 3/10\n",
      "1020/1020 [==============================] - 16s 15ms/step - loss: 0.0049 - val_loss: 0.0046\n",
      "Epoch 4/10\n",
      "1020/1020 [==============================] - 16s 16ms/step - loss: 0.0047 - val_loss: 0.0051\n",
      "Epoch 5/10\n",
      "1020/1020 [==============================] - 16s 15ms/step - loss: 0.0047 - val_loss: 0.0050\n",
      "Epoch 6/10\n",
      "1020/1020 [==============================] - 16s 15ms/step - loss: 0.0047 - val_loss: 0.0048\n",
      "Epoch 7/10\n",
      "1020/1020 [==============================] - 16s 16ms/step - loss: 0.0046 - val_loss: 0.0047\n",
      "Epoch 8/10\n",
      "1020/1020 [==============================] - 16s 16ms/step - loss: 0.0046 - val_loss: 0.0054\n",
      "Epoch 9/10\n",
      "1020/1020 [==============================] - 18s 18ms/step - loss: 0.0045 - val_loss: 0.0049\n",
      "Epoch 10/10\n",
      "1020/1020 [==============================] - 16s 16ms/step - loss: 0.0046 - val_loss: 0.0049\n"
     ]
    }
   ],
   "source": [
    "single_step_history = single_step_model.fit(\n",
    "    train_data,\n",
    "    epochs=EPOCHS,\n",
    "    steps_per_epoch=train_y.shape[0]//BATCH_SIZE,\n",
    "    validation_data=val_data,\n",
    "    validation_steps=val_y.shape[0]//BATCH_SIZE,\n",
    "    use_multiprocessing=True,\n",
    "    workers=8,\n",
    "    callbacks = [es]\n",
    ")"
   ]
  },
  {
   "cell_type": "code",
   "execution_count": 56,
   "metadata": {},
   "outputs": [],
   "source": [
    "def plot_train_history(history, title):\n",
    "  loss = history.history['loss']\n",
    "  val_loss = history.history['val_loss']\n",
    "\n",
    "  epochs = range(len(loss))\n",
    "\n",
    "  plt.figure()\n",
    "\n",
    "  plt.plot(epochs, loss, 'b', label='Training loss')\n",
    "  plt.plot(epochs, val_loss, 'r', label='Validation loss')\n",
    "  plt.title(title)\n",
    "  plt.legend()\n",
    "\n",
    "  plt.show()"
   ]
  },
  {
   "cell_type": "code",
   "execution_count": 57,
   "metadata": {},
   "outputs": [
    {
     "data": {
      "image/png": "[encoded data removed]",
      "text/plain": [
       "<Figure size 432x288 with 1 Axes>"
      ]
     },
     "metadata": {
      "needs_background": "light"
     },
     "output_type": "display_data"
    }
   ],
   "source": [
    "plot_train_history(single_step_history,\n",
    "                   'Single Step Training and validation loss')"
   ]
  },
  {
   "cell_type": "markdown",
   "metadata": {},
   "source": [
    "# Inference"
   ]
  },
  {
   "cell_type": "code",
   "execution_count": 63,
   "metadata": {},
   "outputs": [],
   "source": [
    "def cascade_inference(model, test_x, test_y, obs):\n",
    "    y_hat_list = []\n",
    "    observed = test_y[:obs]\n",
    "    y_hat_list.extend(observed)\n",
    "\n",
    "    buffer = test_x[obs:obs+1]\n",
    "    mu = 0.1\n",
    "\n",
    "    for i in range(obs+1, test_x.shape[0]):\n",
    "        y_hat = model.predict(buffer)\n",
    "        predicted_val = y_hat[0, 0, 0]\n",
    "        y_hat_list.append(predicted_val)\n",
    "    \n",
    "        buffer = np.delete(buffer, 0, 1)\n",
    "#         next_wbhp = test_x[i:i+1][0, 4, 1]\n",
    "        predicted_array = np.array([[predicted_val]])\n",
    "    \n",
    "        buffer = np.vstack((buffer[0], predicted_array))\n",
    "        buffer = np.reshape(buffer, (1, 5, 1))\n",
    "    \n",
    "        mean_wopr = np.mean(buffer[0], axis=0)[0]\n",
    "#         mean_wbhp = np.mean(buffer[0], axis=0)[1]\n",
    "        wopr_predicted_noise_added = np.random.normal(mean_wopr, mu, 1)\n",
    "#         wbhp_predicted_noise_added = np.random.normal(mean_wbhp, mu, 1)\n",
    "    \n",
    "        buffer[0, 4, 0] = wopr_predicted_noise_added\n",
    "#         buffer[0, 4, 1] = wbhp_predicted_noise_added\n",
    "\n",
    "    return y_hat_list"
   ]
  },
  {
   "cell_type": "code",
   "execution_count": 64,
   "metadata": {},
   "outputs": [],
   "source": [
    "OBSERVATION_DATE = 150\n",
    "y_hat_list = cascade_inference(single_step_model, test_x, test_y, obs=OBSERVATION_DATE)"
   ]
  },
  {
   "cell_type": "code",
   "execution_count": 65,
   "metadata": {},
   "outputs": [
    {
     "data": {
      "image/png": "[encoded data removed]",
      "text/plain": [
       "<Figure size 432x288 with 1 Axes>"
      ]
     },
     "metadata": {
      "needs_background": "light"
     },
     "output_type": "display_data"
    }
   ],
   "source": [
    "plt.plot(y_hat_list, label='prediction')\n",
    "plt.plot(test_y, label='true')\n",
    "\n",
    "plt.legend()\n",
    "plt.show()"
   ]
  },
  {
   "cell_type": "code",
   "execution_count": null,
   "metadata": {},
   "outputs": [],
   "source": []
  },
  {
   "cell_type": "code",
   "execution_count": null,
   "metadata": {},
   "outputs": [],
   "source": []
  },
  {
   "cell_type": "code",
   "execution_count": null,
   "metadata": {},
   "outputs": [],
   "source": []
  },
  {
   "cell_type": "code",
   "execution_count": null,
   "metadata": {},
   "outputs": [],
   "source": [
    "y_hat_list = []\n",
    "predicted_differences = []\n",
    "\n",
    "y_hat = single_step_model.predict(serialized_test_x[:150])\n",
    "y_hat_list = y_hat[:, -1].flatten().tolist()\n",
    "print(len(y_hat_list))\n",
    "buffer_test_x = serialized_test_x[150:151]\n",
    "print(f\"before loop {buffer_test_x}, shape {buffer_test_x.shape}\")\n",
    "\n",
    "mu = 0.01\n",
    "buffer = buffer_test_x"
   ]
  },
  {
   "cell_type": "code",
   "execution_count": null,
   "metadata": {},
   "outputs": [],
   "source": [
    "for i in range(151, serialized_test_x.shape[0]):\n",
    "# for i in range(1, 11):\n",
    "    y_hat = single_step_model.predict(buffer)\n",
    "#     print(f\"y_hat: {y_hat}, shape: {y_hat.shape}\")\n",
    "    predicted_val = y_hat[0, 0, 0]\n",
    "    y_hat_list.append(predicted_val)\n",
    "    \n",
    "    difference = serialized_test_x[i:i+1][0, 4, 0] - predicted_val\n",
    "    predicted_differences.append(difference)\n",
    "    \n",
    "    buffer = np.delete(buffer, 0, 1)\n",
    "    next_wbhp = serialized_test_x[i:i+1][0, 4, 1]\n",
    "    predicted_array = np.array([[predicted_val, next_wbhp]])\n",
    "    \n",
    "    buffer = np.vstack((buffer[0], predicted_array))\n",
    "    buffer = np.reshape(buffer, (1, 5, 2))\n",
    "    \n",
    "    mean_wopr = np.mean(buffer[0], axis=0)[0]\n",
    "    mean_wbhp = np.mean(buffer[0], axis=0)[1]\n",
    "    wopr_predicted_noise_added = np.random.normal(mean_wopr, mu, 1)\n",
    "    wbhp_predicted_noise_added = np.random.normal(mean_wbhp, mu, 1)\n",
    "    \n",
    "    buffer[0, 4, 0] = wopr_predicted_noise_added\n",
    "    buffer[0, 4, 1] = wbhp_predicted_noise_added\n",
    "    \n",
    "#     buffer = np.concatenate((wopr_noise, wbhp_noise), axis = 1)\n",
    "#     buffer = np.reshape(buffer, (1, 5, 2))\n",
    "#     print(f\"after insertion {buffer}, shape: {buffer.shape}\")"
   ]
  },
  {
   "cell_type": "code",
   "execution_count": null,
   "metadata": {},
   "outputs": [],
   "source": [
    "print(len(y_hat_list))\n",
    "print(serialized_test_y.shape)\n",
    "\n",
    "plt.plot(y_hat_list, label='prediction')\n",
    "plt.plot(serialized_test_y, label='true')\n",
    "# plt.scatter(y=y_hat_list, x = range(len(y_hat_list)), label='prediction')\n",
    "# plt.scatter(y=serialized_test_y, x = range(len(serialized_test_y)), label='true')\n",
    "\n",
    "plt.legend()\n",
    "plt.show()"
   ]
  },
  {
   "cell_type": "code",
   "execution_count": null,
   "metadata": {},
   "outputs": [],
   "source": [
    "print(len(predicted_differences))\n",
    "plt.plot(predicted_differences, label = 'differences')\n",
    "plt.legend()\n",
    "plt.show()"
   ]
  },
  {
   "cell_type": "code",
   "execution_count": null,
   "metadata": {},
   "outputs": [],
   "source": []
  },
  {
   "cell_type": "code",
   "execution_count": null,
   "metadata": {},
   "outputs": [],
   "source": []
  },
  {
   "cell_type": "code",
   "execution_count": null,
   "metadata": {
    "scrolled": true
   },
   "outputs": [],
   "source": [
    "y_hat = single_step_model.predict(serialized_test_x)\n",
    "# print(y_hat.shape)\n",
    "print(y_hat[:,-1].shape)\n",
    "print(serialized_test_y.shape)\n",
    "# print(y_train_single.shape)\n",
    "plt.plot(y_hat[:,-1], label='prediction')\n",
    "plt.plot(serialized_test_y, label='true')\n",
    "# plt.plot(dataset[TRAIN_SPLIT:][:,0], label='from_dataset')\n",
    "plt.legend()\n",
    "plt.show()"
   ]
  },
  {
   "cell_type": "code",
   "execution_count": null,
   "metadata": {},
   "outputs": [],
   "source": [
    "serialized_test_x[1:2][0]"
   ]
  },
  {
   "cell_type": "code",
   "execution_count": null,
   "metadata": {},
   "outputs": [],
   "source": [
    "y_hat"
   ]
  },
  {
   "cell_type": "code",
   "execution_count": null,
   "metadata": {},
   "outputs": [],
   "source": []
  },
  {
   "cell_type": "code",
   "execution_count": null,
   "metadata": {},
   "outputs": [],
   "source": [
    "# Todo\n",
    "# Temp plotting\n",
    "# predict from training set\n",
    "x_entire, _ = multivariate_data(dataset[:, :2], dataset[:, 0], 0,\n",
    "                                                   None, past_history,\n",
    "                                                   future_target, STEP,\n",
    "                                                   single_step=True)\n",
    "\n",
    "y_hat = single_step_model.predict(x_entire)\n",
    "# print(y_hat[:,-1].shape)\n",
    "# print(y_train_single.shape)\n",
    "plt.plot(y_hat[:,-1], label='prediction')\n",
    "plt.plot(dataset[:, 0], label='true')\n",
    "plt.legend()\n",
    "plt.show()"
   ]
  },
  {
   "cell_type": "code",
   "execution_count": null,
   "metadata": {
    "scrolled": true
   },
   "outputs": [],
   "source": [
    "y_hat = single_step_model.predict(x_val_single)\n",
    "# print(y_hat.shape)\n",
    "print(y_hat[:,-1].shape)\n",
    "print(y_val_single.shape)\n",
    "# print(y_train_single.shape)\n",
    "plt.plot(y_hat[:,-1], label='prediction')\n",
    "plt.plot(y_val_single, label='true')\n",
    "# plt.plot(dataset[TRAIN_SPLIT:][:,0], label='from_dataset')\n",
    "plt.legend()\n",
    "plt.show()"
   ]
  },
  {
   "cell_type": "code",
   "execution_count": null,
   "metadata": {},
   "outputs": [],
   "source": [
    "scaler.min_"
   ]
  },
  {
   "cell_type": "code",
   "execution_count": null,
   "metadata": {},
   "outputs": [],
   "source": [
    "scaler.scale_"
   ]
  },
  {
   "cell_type": "code",
   "execution_count": null,
   "metadata": {},
   "outputs": [],
   "source": [
    "# Evalutate RMSE first and inverse trnasform\n",
    "from math import sqrt\n",
    "from sklearn.metrics import mean_squared_error\n",
    "\n",
    "rmse = sqrt(mean_squared_error(y_val_single, y_hat[:, -1]))\n",
    "print('Test RMSE: %.3f' % rmse)\n",
    "\n",
    "# mse = mean_squared_error(y_val_single, y_hat[:, -1])\n",
    "# print('Test RMSE: %.3f' % mse)"
   ]
  },
  {
   "cell_type": "code",
   "execution_count": null,
   "metadata": {},
   "outputs": [],
   "source": [
    "# single_feature_inverse = (y_hat[:, -1] - scaler.min_[0])/scaler.scale_[0]"
   ]
  },
  {
   "cell_type": "code",
   "execution_count": null,
   "metadata": {},
   "outputs": [],
   "source": [
    "y_hat_inverse = (y_hat[:, -1] - scaler.min_[0])/scaler.scale_[0]\n",
    "y_val_inverse = (y_val_single - scaler.min_[0])/scaler.scale_[0]\n",
    "y_train_inverse = (y_train_single - scaler.min_[0])/scaler.scale_[0]\n",
    "\n",
    "y_train_inverse = y_train_inverse.reshape((-1, 1))\n",
    "y_predicted = np.concatenate((y_train_inverse, y_hat_inverse), axis = None)\n",
    "y_true = np.concatenate((y_train_inverse, y_val_inverse.reshape((-1, 1))), axis = None)"
   ]
  },
  {
   "cell_type": "code",
   "execution_count": null,
   "metadata": {},
   "outputs": [],
   "source": [
    "plt.plot(y_predicted, linestyle='-', label='prediction')\n",
    "plt.plot(y_true, linestyle='-', label='true')\n",
    "plt.xlabel('date')\n",
    "plt.ylabel('WOPR')\n",
    "plt.title('WOPR true vs prediction')\n",
    "plt.legend()\n",
    "plt.show()"
   ]
  },
  {
   "cell_type": "code",
   "execution_count": null,
   "metadata": {},
   "outputs": [],
   "source": [
    "# Using StandardScaler\n",
    "# y_hat_inverse = y_hat[:,-1] * np.sqrt(scaler.var_[0]) + scaler.mean_[0]\n",
    "# y_val_inverse = y_val_single * np.sqrt(scaler.var_[0]) + scaler.mean_[0]\n",
    "# y_train_inverse = y_train_single * np.sqrt(scaler.var_[0]) + scaler.mean_[0]\n",
    "\n",
    "# y_train_inverse = y_train_inverse.reshape((-1, 1))\n",
    "# y_predicted = np.concatenate((y_train_inverse, y_hat_inverse), axis = None)\n",
    "# y_true = np.concatenate((y_train_inverse, y_val_inverse.reshape((-1, 1))), axis = None)\n",
    "\n",
    "# plt.plot(y_predicted, linestyle='-', label='prediction')\n",
    "# plt.plot(y_true, linestyle='-', label='true')\n",
    "# plt.xlabel('date')\n",
    "# plt.ylabel('WOPR')\n",
    "# plt.title('WOPR true vs prediction')\n",
    "# plt.legend()\n",
    "# plt.show()"
   ]
  },
  {
   "cell_type": "markdown",
   "metadata": {},
   "source": [
    "# Evaluate the model"
   ]
  },
  {
   "cell_type": "code",
   "execution_count": null,
   "metadata": {},
   "outputs": [],
   "source": [
    "# y_hat_inverse = y_hat[:,-1] * np.sqrt(scaler.var_[0]) + scaler.mean_[0]\n",
    "# y_val_inverse = y_val_single * np.sqrt(scaler.var_[0]) + scaler.mean_[0]\n",
    "# print(y_hat_inverse.shape)\n",
    "# print(y_val_inverse.reshape((-1, 1)).shape)"
   ]
  },
  {
   "cell_type": "code",
   "execution_count": null,
   "metadata": {},
   "outputs": [],
   "source": [
    "# calculate RMSE\n",
    "from math import sqrt\n",
    "from sklearn.metrics import mean_squared_error\n",
    "\n",
    "# rmse = sqrt(mean_squared_error(y_val_inverse, y_hat_inverse))\n",
    "# print('Test RMSE: %.3f' % rmse)\n",
    "\n",
    "mse = mean_squared_error(y_val_inverse, y_hat_inverse)\n",
    "print('Test RMSE: %.3f' % mse)"
   ]
  },
  {
   "cell_type": "code",
   "execution_count": null,
   "metadata": {},
   "outputs": [],
   "source": [
    "result_dir = pjoin(DATA_PATH, RESULT_FILE_NAME)\n",
    "\n",
    "with open(result_dir, \"a\") as f:\n",
    "    f.write(f\"{well_index}, {model_index}, {rmse}, {BATCH_SIZE}, {EPOCHS}, {TRAIN_SPLIT}, {past_history}, {future_target}, {lstm1_units}, {lstm2_units}, {gaussian_std}, {dropout_rate}\")\n",
    "    f.close()"
   ]
  },
  {
   "cell_type": "code",
   "execution_count": null,
   "metadata": {},
   "outputs": [],
   "source": [
    "tf.keras.backend.clear_session()"
   ]
  },
  {
   "cell_type": "code",
   "execution_count": null,
   "metadata": {},
   "outputs": [],
   "source": []
  }
 ],
 "metadata": {
  "kernelspec": {
   "display_name": "Python 3",
   "language": "python",
   "name": "python3"
  },
  "language_info": {
   "codemirror_mode": {
    "name": "ipython",
    "version": 3
   },
   "file_extension": ".py",
   "mimetype": "text/x-python",
   "name": "python",
   "nbconvert_exporter": "python",
   "pygments_lexer": "ipython3",
   "version": "3.7.1"
  }
 },
 "nbformat": 4,
 "nbformat_minor": 2
}
