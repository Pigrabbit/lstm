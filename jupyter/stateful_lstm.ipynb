{
 "cells": [
  {
   "cell_type": "markdown",
   "metadata": {},
   "source": [
    "# Forecast a multivariate time series\n",
    "\n",
    "with TensorFlow 2.0\n",
    "\n",
    "dataset: Brugge field .mat\n",
    "\n",
    "## What to implement\n",
    "\n",
    "각 well마다 104개의 모델이 있다. 이 중에서 80개는 training set으로 나머지는 validation set으로 사용한다.\n",
    "\n",
    "LSTM은 Input sequence 5개 `(t-5)~(t-1)`, Output sequence 1개`t`로 되어있다. Layer 구성은 2개의 LSTM layer, 2개의 dropout layer, 1개의 Dense layer로 한다. \n",
    "\n",
    "Inference시에 \n",
    "- 먼저 day 1004까지(index 앞의 150개)는 그대로 넣어 predict한다.\n",
    "- 그 다음부터는 이전 5개의 값으로 t에서의 value를 예측한다.\n",
    "- 가장 과거의 값(t-5)은 잊어버리고 예측한 값을 window에 넣어준다.\n",
    "- window 안에 있는 새로운 5개 timestep의 value들의 mean을 구한다.\n",
    "- 구한 mean과 일정한 std 값으로 Gaussian noise가 들어간 값으로 predict 한 값을 replace한다.\n",
    "- 즉 window의 가장 최근 값은, predict한 값이 아니라, predict_val + gaussian_noise(window_mean, std)가 들어가게 된다.\n",
    "- 이 window를 가지고 다음 t에서의 value를 예측한다."
   ]
  },
  {
   "cell_type": "markdown",
   "metadata": {},
   "source": [
    "## Setup"
   ]
  },
  {
   "cell_type": "code",
   "execution_count": 1,
   "metadata": {},
   "outputs": [
    {
     "name": "stdout",
     "output_type": "stream",
     "text": [
      "Num GPUs Available:  1\n"
     ]
    }
   ],
   "source": [
    "import random\n",
    "import numpy as np\n",
    "import pandas as pd\n",
    "import scipy.io as sio\n",
    "import matplotlib.pyplot as plt\n",
    "import tensorflow as tf\n",
    "from tensorflow import keras \n",
    "from datetime import datetime\n",
    "from math import sqrt\n",
    "from sklearn.metrics import mean_squared_error\n",
    "from sklearn.preprocessing import MinMaxScaler\n",
    "from os.path import dirname, join as pjoin\n",
    "random.seed(2)\n",
    "\n",
    "# tf.debugging.set_log_device_placement(True)\n",
    "print(\"Num GPUs Available: \", len(tf.config.experimental.list_physical_devices('GPU')))"
   ]
  },
  {
   "cell_type": "code",
   "execution_count": 2,
   "metadata": {},
   "outputs": [],
   "source": [
    "# Declare constants\n",
    "DATA_PATH = '../data'\n",
    "DATA_FILE_NAME = 'Brugge_en_d.mat'\n",
    "# RESULT_FILE_NAME = 'rmse.csv'\n",
    "RESULT_FILE_NAME = 'mape.csv'\n",
    "\n",
    "# TRAIN_SPLIT = 150\n",
    "BUFFER_SIZE = 1000\n",
    "BATCH_SIZE = 32\n",
    "EVALUATION_INTERVAL = 10\n",
    "EPOCHS = 5\n",
    "\n",
    "WELL_TO_LEARN = 9\n",
    "\n",
    "NUM_MODEL = 104\n",
    "TRUE_MODEL = 88\n",
    "OBSERVATION_DAY = 150\n",
    "\n",
    "LSTM_UNITS = 128\n",
    "DROPOUT_RATE = 0.25\n",
    "TRAIN_SPLIT = 80\n",
    "NUM_FEATURES = 4\n",
    "NUM_FEATURES_USED = 1\n",
    "INPUT_SEQUENCE = 5\n",
    "FUTURE_TARGET = 0\n",
    "STEP = 1"
   ]
  },
  {
   "cell_type": "code",
   "execution_count": 3,
   "metadata": {},
   "outputs": [],
   "source": [
    "data_dir = pjoin(DATA_PATH, DATA_FILE_NAME)\n",
    "mat_contents = sio.loadmat(data_dir)\n",
    "\n",
    "data = mat_contents['en_d'][0, 0]"
   ]
  },
  {
   "cell_type": "markdown",
   "metadata": {},
   "source": [
    "## Data Preparation"
   ]
  },
  {
   "cell_type": "code",
   "execution_count": 4,
   "metadata": {},
   "outputs": [],
   "source": [
    "well_dic = {}\n",
    "\n",
    "for well_index in range(20): # well, Producer P1-P20\n",
    "    # 'model_num' => dataframe\n",
    "    model_dic = {}\n",
    "    well_key = 'P' + str(well_index+1)\n",
    "    for model_index in range(104): # model, model 1-104\n",
    "        well_data = np.array([\n",
    "            data['WOPR'][0,0][well_key][:,model_index],\n",
    "            data['WBHP'][0,0][well_key][:,model_index],\n",
    "            data['WWCT'][0,0][well_key][:,model_index],\n",
    "            data['WWPR'][0,0][well_key][:,model_index]\n",
    "          ])\n",
    "        # col1: WOPR, col2: WBHP, col3: WWCT, col4: WWPR\n",
    "        # row1: day1, ... row 498: day3648\n",
    "        well_data = well_data.T\n",
    "        df = pd.DataFrame(\n",
    "            data=well_data,\n",
    "            columns=['WOPR', 'WBHP', 'WWCT', 'WWPR']\n",
    "        )\n",
    "        model_dic[str(model_index+1)] = df\n",
    "        \n",
    "    well_dic[str(well_index+1)] = model_dic"
   ]
  },
  {
   "cell_type": "code",
   "execution_count": 5,
   "metadata": {},
   "outputs": [],
   "source": [
    "def plot_single_well(well_dic, well_num):\n",
    "    ax = plt.gca()\n",
    "    for i in range(104):\n",
    "        df = well_dic[str(well_num)][str(i+1)]\n",
    "        if i == TRUE_MODEL-1:\n",
    "            df.plot(y='WOPR', ax=ax, color='red', linewidth = 5, legend=False)\n",
    "        else:\n",
    "            df.plot(y='WOPR', ax=ax, color='gray', legend=False)\n",
    "            \n",
    "    plt.show()"
   ]
  },
  {
   "cell_type": "code",
   "execution_count": 6,
   "metadata": {},
   "outputs": [
    {
     "data": {
      "image/png": "[encoded data removed]",
      "text/plain": [
       "<Figure size 432x288 with 1 Axes>"
      ]
     },
     "metadata": {
      "needs_background": "light"
     },
     "output_type": "display_data"
    }
   ],
   "source": [
    "plot_single_well(well_dic, WELL_TO_LEARN)"
   ]
  },
  {
   "cell_type": "markdown",
   "metadata": {},
   "source": [
    "# Data Preprocessing"
   ]
  },
  {
   "cell_type": "code",
   "execution_count": 7,
   "metadata": {},
   "outputs": [],
   "source": [
    "well_to_predict = well_dic[str(WELL_TO_LEARN)]"
   ]
  },
  {
   "cell_type": "code",
   "execution_count": 9,
   "metadata": {},
   "outputs": [],
   "source": [
    "# delte rows where WOPR is zero\n",
    "def remove_zero_wopr(well):\n",
    "    for model_index in well:\n",
    "        df = well_to_predict[model_index]\n",
    "        well_to_predict[model_index] = df[df.WOPR != 0]"
   ]
  },
  {
   "cell_type": "code",
   "execution_count": 10,
   "metadata": {},
   "outputs": [],
   "source": [
    "remove_zero_wopr(well_to_predict)"
   ]
  },
  {
   "cell_type": "code",
   "execution_count": 11,
   "metadata": {},
   "outputs": [],
   "source": [
    "test_model_unprocessed = well_to_predict[str(TRUE_MODEL)]"
   ]
  },
  {
   "cell_type": "code",
   "execution_count": 12,
   "metadata": {},
   "outputs": [],
   "source": [
    "def serialize_well_dataframe(well):\n",
    "    serialized_well = np.empty((0, 4))\n",
    "    end_indice = {}\n",
    "    start = 0\n",
    "    \n",
    "    for model in well:         \n",
    "#       skip true model\n",
    "        if model == str(TRUE_MODEL):\n",
    "            continue\n",
    "        dataset = well[str(model)].values\n",
    "        serialized_well = np.concatenate((serialized_well, dataset))\n",
    "        num_timesteps = dataset.shape[0]\n",
    "        end_indice[str(model)] = [start, start+num_timesteps]\n",
    "        start += num_timesteps\n",
    "    return serialized_well, end_indice"
   ]
  },
  {
   "cell_type": "code",
   "execution_count": 13,
   "metadata": {},
   "outputs": [],
   "source": [
    "serialized_dataset, end_indice = serialize_well_dataframe(well_to_predict)"
   ]
  },
  {
   "cell_type": "code",
   "execution_count": 14,
   "metadata": {},
   "outputs": [],
   "source": [
    "def scale_model_together(serialized_dataset):\n",
    "    scaler = MinMaxScaler()\n",
    "    scaler.fit(serialized_dataset)\n",
    "    transformed = scaler.transform(serialized_dataset)\n",
    "    \n",
    "    return transformed, scaler"
   ]
  },
  {
   "cell_type": "code",
   "execution_count": 15,
   "metadata": {},
   "outputs": [],
   "source": [
    "scaled_together_dataset, scaler = scale_model_together(serialized_dataset)"
   ]
  },
  {
   "cell_type": "code",
   "execution_count": 16,
   "metadata": {},
   "outputs": [
    {
     "data": {
      "image/png": "[encoded data removed]",
      "text/plain": [
       "<Figure size 432x288 with 1 Axes>"
      ]
     },
     "metadata": {
      "needs_background": "light"
     },
     "output_type": "display_data"
    }
   ],
   "source": [
    "plt.plot(scaled_together_dataset[:,0], label='scaled WOPR')\n",
    "plt.title('Scaled Serialized Dataset')\n",
    "plt.legend(loc='best')\n",
    "plt.show()"
   ]
  },
  {
   "cell_type": "code",
   "execution_count": 17,
   "metadata": {},
   "outputs": [],
   "source": [
    "# Todo\n",
    "# Make multivariate dataset\n",
    "def multivariate_data(dataset, target, start_index, end_index, history_size,\n",
    "                      target_size, step, single_step=False):\n",
    "  data = []\n",
    "  labels = []\n",
    "\n",
    "  start_index = start_index + history_size\n",
    "  if end_index is None:\n",
    "    end_index = len(dataset) - target_size\n",
    "\n",
    "  for i in range(start_index, end_index):\n",
    "    indices = range(i-history_size, i, step)\n",
    "    data.append(dataset[indices])\n",
    "\n",
    "    if single_step:\n",
    "      labels.append(target[i+target_size])\n",
    "    else:\n",
    "      labels.append(target[i:i+target_size])\n",
    "\n",
    "  return np.array(data), np.array(labels)"
   ]
  },
  {
   "cell_type": "code",
   "execution_count": 18,
   "metadata": {},
   "outputs": [],
   "source": [
    "def split_train(test_model):\n",
    "    model_list = list(range(1, NUM_MODEL + 1))\n",
    "    train = []\n",
    "    test = [test_model]\n",
    "    model_list.remove(test_model)\n",
    "    for i in range(TRAIN_SPLIT):\n",
    "        chosen = random.choice(model_list)\n",
    "        train.append(chosen)\n",
    "        model_list.remove(chosen)\n",
    "\n",
    "    val = model_list\n",
    "    return train, val, test"
   ]
  },
  {
   "cell_type": "code",
   "execution_count": 19,
   "metadata": {},
   "outputs": [],
   "source": [
    "train_model_list, val_model_list, test_model_list = split_train(test_model=TRUE_MODEL)"
   ]
  },
  {
   "cell_type": "code",
   "execution_count": 20,
   "metadata": {},
   "outputs": [
    {
     "name": "stdout",
     "output_type": "stream",
     "text": [
      "False\n",
      "False\n",
      "True\n"
     ]
    }
   ],
   "source": [
    "print(TRUE_MODEL in train_model_list)\n",
    "print(TRUE_MODEL in val_model_list)\n",
    "print(TRUE_MODEL in test_model_list)"
   ]
  },
  {
   "cell_type": "code",
   "execution_count": 21,
   "metadata": {},
   "outputs": [],
   "source": [
    "def get_dataset(serialized_well, model_list, end_indice):\n",
    "    dataset_x = np.empty((0, INPUT_SEQUENCE, NUM_FEATURES_USED))\n",
    "    dataset_y = np.empty((0))\n",
    "\n",
    "    for model in model_list:\n",
    "        start_index = end_indice[str(model)][0]\n",
    "        end_index = end_indice[str(model)][1]\n",
    "    \n",
    "        range_multi_x, range_multi_y = multivariate_data(\n",
    "            serialized_well[start_index:end_index][:, :NUM_FEATURES_USED],\n",
    "            serialized_well[start_index:end_index][:, 0],\n",
    "            start_index = 0,\n",
    "            end_index = end_index - start_index,\n",
    "            history_size = INPUT_SEQUENCE,\n",
    "            target_size = FUTURE_TARGET,\n",
    "            step = STEP,\n",
    "            single_step = True\n",
    "        )\n",
    "        \n",
    "        dataset_x = np.concatenate((dataset_x, range_multi_x))\n",
    "        dataset_y = np.concatenate((dataset_y, range_multi_y))\n",
    "\n",
    "    return dataset_x, dataset_y"
   ]
  },
  {
   "cell_type": "code",
   "execution_count": 22,
   "metadata": {},
   "outputs": [
    {
     "name": "stdout",
     "output_type": "stream",
     "text": [
      "(32640, 5, 1) (32640,)\n",
      "(9384, 5, 1) (9384,)\n"
     ]
    }
   ],
   "source": [
    "new_train_x, new_train_y = get_dataset(scaled_together_dataset, train_model_list, end_indice)\n",
    "new_val_x, new_val_y = get_dataset(scaled_together_dataset, val_model_list, end_indice)\n",
    "print(new_train_x.shape, new_train_y.shape)\n",
    "print(new_val_x.shape, new_val_y.shape)"
   ]
  },
  {
   "cell_type": "code",
   "execution_count": 23,
   "metadata": {},
   "outputs": [],
   "source": [
    "train_data = tf.data.Dataset.from_tensor_slices((new_train_x, new_train_y))\n",
    "train_data = train_data.cache().shuffle(BUFFER_SIZE).batch(BATCH_SIZE).repeat()\n",
    "train_data = train_data.prefetch(1)\n",
    "val_data = tf.data.Dataset.from_tensor_slices((new_val_x, new_val_y))\n",
    "val_data = val_data.batch(BATCH_SIZE).repeat()"
   ]
  },
  {
   "cell_type": "markdown",
   "metadata": {},
   "source": [
    "# Define model and Train"
   ]
  },
  {
   "cell_type": "code",
   "execution_count": 24,
   "metadata": {},
   "outputs": [],
   "source": [
    "single_step_model = tf.keras.models.Sequential()\n",
    "\n",
    "single_step_model.add(tf.keras.layers.LSTM(LSTM_UNITS, batch_input_shape=(BATCH_SIZE, INPUT_SEQUENCE, STEP), activation='relu', stateful=True))\n",
    "single_step_model.add(tf.keras.layers.Dropout(DROPOUT_RATE))\n",
    "\n",
    "\n",
    "single_step_model.add(tf.keras.layers.Dense(1))\n",
    "\n",
    "single_step_model.compile(optimizer='adam', loss='mean_squared_error',metrics=['mean_squared_error'])"
   ]
  },
  {
   "cell_type": "code",
   "execution_count": 25,
   "metadata": {},
   "outputs": [
    {
     "name": "stdout",
     "output_type": "stream",
     "text": [
      "Model: \"sequential\"\n",
      "_________________________________________________________________\n",
      "Layer (type)                 Output Shape              Param #   \n",
      "=================================================================\n",
      "lstm (LSTM)                  (32, 128)                 66560     \n",
      "_________________________________________________________________\n",
      "dropout (Dropout)            (32, 128)                 0         \n",
      "_________________________________________________________________\n",
      "dense (Dense)                (32, 1)                   129       \n",
      "=================================================================\n",
      "Total params: 66,689\n",
      "Trainable params: 66,689\n",
      "Non-trainable params: 0\n",
      "_________________________________________________________________\n"
     ]
    }
   ],
   "source": [
    "single_step_model.summary()"
   ]
  },
  {
   "cell_type": "code",
   "execution_count": 26,
   "metadata": {},
   "outputs": [
    {
     "name": "stdout",
     "output_type": "stream",
     "text": [
      "(32, 1)\n"
     ]
    }
   ],
   "source": [
    "for x, y in val_data.take(1):\n",
    "  print(single_step_model.predict(x).shape)"
   ]
  },
  {
   "cell_type": "code",
   "execution_count": 27,
   "metadata": {},
   "outputs": [],
   "source": [
    "es_callback = tf.keras.callbacks.EarlyStopping(monitor='val_loss', mode='min', patience=50, verbose=1)\n",
    "\n",
    "timestamp = datetime.now().strftime(\"%Y%m%d-%H%M%S\")\n",
    "log_dir = pjoin('..\\\\logs', 'fit', timestamp)\n",
    "tensorboard_callback = tf.keras.callbacks.TensorBoard(\n",
    "    log_dir=log_dir, histogram_freq=1)\n",
    "\n",
    "# checkpoint_path = pjoin('..\\\\logs', f\"well_{WELL_TO_LEARN}\", \"model.ckpt-{epoch:04d}\")\n",
    "# checkpoint_callback = tf.keras.callbacks.ModelCheckpoint(filepath=checkpoint_path, save_weights_only=True, verbose=1)\n",
    "\n",
    "\n",
    "class LossHistory(keras.callbacks.Callback):\n",
    "    def init(self):\n",
    "        self.losses = []\n",
    "        self.val_losses = []\n",
    "        \n",
    "    def on_epoch_end(self, batch, logs={}):\n",
    "        self.losses.append(logs.get('loss'))\n",
    "        self.val_losses.append(logs.get('val_loss'))\n",
    "\n",
    "history = LossHistory()\n",
    "history.init()"
   ]
  },
  {
   "cell_type": "code",
   "execution_count": 28,
   "metadata": {},
   "outputs": [
    {
     "name": "stdout",
     "output_type": "stream",
     "text": [
      "epochs : 0\n",
      "Train for 1020.0 steps, validate for 100 steps\n",
      "1020/1020 - 12s - loss: 7.4308e-04 - mean_squared_error: 7.4308e-04 - val_loss: 2.2429e-05 - val_mean_squared_error: 2.2429e-05\n",
      "epochs : 1\n",
      "Train for 1020.0 steps, validate for 100 steps\n",
      "1020/1020 - 9s - loss: 1.2768e-04 - mean_squared_error: 1.2768e-04 - val_loss: 2.5074e-05 - val_mean_squared_error: 2.5074e-05\n",
      "epochs : 2\n",
      "Train for 1020.0 steps, validate for 100 steps\n",
      "1020/1020 - 9s - loss: 1.1412e-04 - mean_squared_error: 1.1412e-04 - val_loss: 1.0503e-05 - val_mean_squared_error: 1.0503e-05\n",
      "epochs : 3\n",
      "Train for 1020.0 steps, validate for 100 steps\n",
      "1020/1020 - 9s - loss: 1.1277e-04 - mean_squared_error: 1.1277e-04 - val_loss: 1.6864e-05 - val_mean_squared_error: 1.6864e-05\n",
      "epochs : 4\n",
      "Train for 1020.0 steps, validate for 100 steps\n",
      "1020/1020 - 9s - loss: 9.7701e-05 - mean_squared_error: 9.7701e-05 - val_loss: 1.6204e-05 - val_mean_squared_error: 1.6204e-05\n"
     ]
    }
   ],
   "source": [
    "for epoch_idx in range(EPOCHS):\n",
    "    print ('epochs : ' + str(epoch_idx))\n",
    "    single_step_model.fit(\n",
    "        train_data,\n",
    "        epochs=1,\n",
    "        steps_per_epoch=new_train_x.shape[0]/BATCH_SIZE,\n",
    "        verbose=2,\n",
    "        validation_data=val_data,\n",
    "        validation_steps=100,\n",
    "        use_multiprocessing=True,\n",
    "        callbacks=[history]\n",
    "#         callbacks=[history, es_callback, tensorboard_callback]\n",
    "    )\n",
    "    single_step_model.reset_states()"
   ]
  },
  {
   "cell_type": "code",
   "execution_count": 29,
   "metadata": {},
   "outputs": [
    {
     "data": {
      "image/png": "[encoded data removed]",
      "text/plain": [
       "<Figure size 432x288 with 1 Axes>"
      ]
     },
     "metadata": {
      "needs_background": "light"
     },
     "output_type": "display_data"
    }
   ],
   "source": [
    "fig = plt.figure()\n",
    "\n",
    "plt.plot(range(1, EPOCHS+1), history.losses, label='train')\n",
    "plt.plot(range(1, EPOCHS+1), history.val_losses, label='validation')\n",
    "\n",
    "plt.ylabel('loss(Mean Squared Error)')\n",
    "plt.xlabel('epoch')\n",
    "plt.title(f\"Train and validation losses, well:{WELL_TO_LEARN}\")\n",
    "plt.legend(loc='best')\n",
    "\n",
    "fig_extension = 'png'\n",
    "img_dir = pjoin('../img', f\"well{WELL_TO_LEARN}_losses.{fig_extension}\")\n",
    "plt.show()\n",
    "fig.savefig(img_dir, format=fig_extension, dpi=300)\n",
    "fig.clf()"
   ]
  },
  {
   "cell_type": "code",
   "execution_count": null,
   "metadata": {},
   "outputs": [],
   "source": [
    "# scores=single_step_model.evaluate(train_x, train_y, batch_size=BATCH_SIZE)"
   ]
  },
  {
   "cell_type": "markdown",
   "metadata": {},
   "source": [
    "# Inference\n",
    "\n",
    "test set Normalize 어떻게 할 것인가?\n",
    "\n",
    "- 나머지 model들의 scaler_min, scaler_scale의 대표값을 쓴다\n",
    "- 어떤 대표값을 쓸까? 평균, 중간값, 최대, 최소 등"
   ]
  },
  {
   "cell_type": "code",
   "execution_count": 30,
   "metadata": {},
   "outputs": [
    {
     "name": "stdout",
     "output_type": "stream",
     "text": [
      "(408, 5, 1) (408,)\n"
     ]
    }
   ],
   "source": [
    "test_unprocessed_data = scaler.transform(test_model_unprocessed.values)\n",
    "\n",
    "new_test_x, new_test_y = multivariate_data(\n",
    "    test_unprocessed_data[:, :NUM_FEATURES_USED],\n",
    "    test_unprocessed_data[:, 0],\n",
    "    start_index = 0,\n",
    "    end_index = test_unprocessed_data.shape[0],\n",
    "    history_size=INPUT_SEQUENCE,\n",
    "    target_size=FUTURE_TARGET,\n",
    "    step=STEP,\n",
    "    single_step=True\n",
    ")\n",
    "\n",
    "print(new_test_x.shape, new_test_y.shape)"
   ]
  },
  {
   "cell_type": "code",
   "execution_count": 33,
   "metadata": {},
   "outputs": [],
   "source": [
    "seq_in = new_test_x[OBSERVATION_DAY-BATCH_SIZE:OBSERVATION_DAY,:,:]\n",
    "seq_out = new_test_x[:INPUT_SEQUENCE,:1,:].flatten().tolist() + new_test_y[:OBSERVATION_DAY+1].tolist()"
   ]
  },
  {
   "cell_type": "code",
   "execution_count": 34,
   "metadata": {},
   "outputs": [],
   "source": [
    "pred_count = new_test_x.shape[0] - OBSERVATION_DAY\n",
    "\n",
    "for i in range(1, pred_count):\n",
    "    sample_in = seq_in\n",
    "    pred_out = single_step_model.predict(sample_in)\n",
    "    seq_out.append(pred_out[-1,:].item())\n",
    "    seq_in = new_test_x[OBSERVATION_DAY-BATCH_SIZE+i:OBSERVATION_DAY+i,:,:]    \n",
    "\n",
    "single_step_model.reset_states()"
   ]
  },
  {
   "cell_type": "markdown",
   "metadata": {},
   "source": [
    "# Evaluate the model"
   ]
  },
  {
   "cell_type": "code",
   "execution_count": null,
   "metadata": {
    "scrolled": true
   },
   "outputs": [],
   "source": [
    "seq_out_array = np.asarray(seq_out)\n",
    "prediction_val = (seq_out_array - scaler.min_[0])/ scaler.scale_[0]\n",
    "\n",
    "\n",
    "true_val = well_to_predict[str(TRUE_MODEL)]\n",
    "true_val = true_val['WOPR'].to_numpy()\n",
    "x_axis = range(test_unprocessed_data.shape[0])\n",
    "\n",
    "fig = plt.figure()\n",
    "plt.plot(x_axis, true_val, label='ground truth')\n",
    "plt.plot(x_axis, prediction_val, label='prediction')\n",
    "\n",
    "plt.ylabel('WOPR')\n",
    "plt.xlabel('time')\n",
    "plt.title(f\"WOPR forecasting, well: {WELL_TO_LEARN}  true model: {TRUE_MODEL}\")\n",
    "plt.legend(loc='best')\n",
    "\n",
    "fig_extension = 'png'\n",
    "img_dir = pjoin('../img', f\"well{WELL_TO_LEARN}_prediction.{fig_extension}\")\n",
    "plt.show()\n",
    "fig.savefig(img_dir, format=fig_extension, dpi=300)\n",
    "fig.clf()"
   ]
  },
  {
   "cell_type": "code",
   "execution_count": null,
   "metadata": {},
   "outputs": [],
   "source": [
    "# print(prediction_val)\n",
    "# print(true_val)\n",
    "def mean_absolute_percentage_error(y_true, y_pred): \n",
    "    y_true, y_pred = np.array(y_true), np.array(y_pred)\n",
    "    return np.mean(np.abs((y_true - y_pred) / y_true))[0] * 100\n",
    "\n",
    "mape = mean_absolute_percentage_error(true_val, prediction_val)\n",
    "print(f\"MAPE: {mape}\")"
   ]
  },
  {
   "cell_type": "code",
   "execution_count": null,
   "metadata": {},
   "outputs": [],
   "source": [
    "result_dir = pjoin('../result', RESULT_FILE_NAME)\n",
    "\n",
    "with open(result_dir, \"a\") as f:\n",
    "    f.write(f\"{WELL_TO_LEARN},{TRUE_MODEL},{mape}\\n\")\n",
    "    f.close()"
   ]
  },
  {
   "cell_type": "code",
   "execution_count": null,
   "metadata": {},
   "outputs": [],
   "source": [
    "# After scaling up\n",
    "# rmse = sqrt(mean_squared_error(prediction_val, true_val))\n",
    "# print(f\"Test RMSE: {rmse}\")"
   ]
  },
  {
   "cell_type": "code",
   "execution_count": null,
   "metadata": {},
   "outputs": [],
   "source": [
    "# result_dir = pjoin('../result', RESULT_FILE_NAME)\n",
    "\n",
    "# with open(result_dir, \"a\") as f:\n",
    "#     f.write(f\"{WELL_TO_LEARN},{TRUE_MODEL},{rmse}\\n\")\n",
    "#     f.close()"
   ]
  },
  {
   "cell_type": "code",
   "execution_count": 36,
   "metadata": {},
   "outputs": [],
   "source": [
    "tf.keras.backend.clear_session()"
   ]
  },
  {
   "cell_type": "code",
   "execution_count": null,
   "metadata": {},
   "outputs": [],
   "source": []
  }
 ],
 "metadata": {
  "kernelspec": {
   "display_name": "Python 3",
   "language": "python",
   "name": "python3"
  },
  "language_info": {
   "codemirror_mode": {
    "name": "ipython",
    "version": 3
   },
   "file_extension": ".py",
   "mimetype": "text/x-python",
   "name": "python",
   "nbconvert_exporter": "python",
   "pygments_lexer": "ipython3",
   "version": "3.7.6"
  }
 },
 "nbformat": 4,
 "nbformat_minor": 2
}