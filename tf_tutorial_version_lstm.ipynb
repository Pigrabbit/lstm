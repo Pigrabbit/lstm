{
 "cells": [
  {
   "cell_type": "markdown",
   "metadata": {},
   "source": [
    "# Forecast a multivariate time series\n",
    "\n",
    "with TensorFlow 2.0\n",
    "\n",
    "dataset: Brugge field .mat\n",
    "\n",
    "## Setup"
   ]
  },
  {
   "cell_type": "code",
   "execution_count": 1,
   "metadata": {},
   "outputs": [],
   "source": [
    "import numpy as np\n",
    "from os.path import dirname, join as pjoin\n",
    "import scipy.io as sio\n",
    "import pandas as pd\n",
    "import matplotlib.pyplot as plt\n",
    "import tensorflow as tf\n",
    "\n",
    "DATA_PATH = './data'\n",
    "DATA_FILE_NAME = 'Brugge_en_d.mat'\n",
    "RESULT_FILE_NAME = 'rmse_brugge.csv'\n",
    "\n",
    "TRAIN_SPLIT = 150\n",
    "BUFFER_SIZE = 1000\n",
    "BATCH_SIZE = 32\n",
    "EVALUATION_INTERVAL = 200\n",
    "EPOCHS = 200\n",
    "\n",
    "data_dir = pjoin(DATA_PATH, DATA_FILE_NAME)\n",
    "mat_contents = sio.loadmat(data_dir)\n",
    "\n",
    "data = mat_contents['en_d'][0, 0]\n",
    "\n",
    "# tf.debugging.set_log_device_placement(True)"
   ]
  },
  {
   "cell_type": "markdown",
   "metadata": {},
   "source": [
    "## Data Preparation"
   ]
  },
  {
   "cell_type": "code",
   "execution_count": 2,
   "metadata": {},
   "outputs": [],
   "source": [
    "well_dic = {}\n",
    "\n",
    "for well_index in range(20): # well, Producer P1-P20\n",
    "    # 'model_num' => dataframe\n",
    "    model_dic = {}\n",
    "    well_key = 'P' + str(well_index+1)\n",
    "    for model_index in range(104): # model, model 1-104\n",
    "        well_data = np.array([\n",
    "            data['WOPR'][0,0][well_key][:,model_index],\n",
    "            data['WBHP'][0,0][well_key][:,model_index],\n",
    "            data['WWCT'][0,0][well_key][:,model_index],\n",
    "            data['WWPR'][0,0][well_key][:,model_index]\n",
    "          ])\n",
    "        # col1: WOPR, col2: WBHP, col3: WWCT, col4: WWPR\n",
    "        # row1: day1, ... row 498: day3648\n",
    "        well_data = well_data.T\n",
    "        df = pd.DataFrame(data=well_data,\n",
    "                          index=data['TIME'].flatten(),\n",
    "                          columns=['WOPR', 'WBHP', 'WWCT', 'WWPR'])\n",
    "        df.index.name = 'date'\n",
    "        model_dic[str(model_index+1)] = df\n",
    "        \n",
    "    well_dic[str(well_index+1)] = model_dic"
   ]
  },
  {
   "cell_type": "code",
   "execution_count": null,
   "metadata": {},
   "outputs": [],
   "source": [
    "def plot_single_well(well_dic, well_num):\n",
    "    ax = plt.gca()\n",
    "    true_model_num = 103\n",
    "    for i in range(104):\n",
    "        df = well_dic[str(well_num)][str(i+1)]\n",
    "        if i == true_model_num:\n",
    "            df.plot(y='WOPR', ax=ax, color='red', legend=False)\n",
    "        else:\n",
    "            df.plot(y='WOPR', ax=ax, color='gray', legend=False)\n",
    "            \n",
    "    plt.show()"
   ]
  },
  {
   "cell_type": "code",
   "execution_count": null,
   "metadata": {},
   "outputs": [],
   "source": [
    "plot_single_well(well_dic, 9)"
   ]
  },
  {
   "cell_type": "markdown",
   "metadata": {},
   "source": [
    "# Data Preprocessing"
   ]
  },
  {
   "cell_type": "code",
   "execution_count": 3,
   "metadata": {},
   "outputs": [
    {
     "data": {
      "image/png": "[encoded data removed]",
      "text/plain": [
       "<Figure size 432x288 with 1 Axes>"
      ]
     },
     "metadata": {
      "needs_background": "light"
     },
     "output_type": "display_data"
    }
   ],
   "source": [
    "well_index = '9'\n",
    "model_index = '5'\n",
    "\n",
    "dataset = well_dic[well_index][model_index].values\n",
    "# data_mean = dataset[:TRAIN_SPLIT].mean(axis=0)\n",
    "# data_std = dataset[:TRAIN_SPLIT].std(axis=0)\n",
    "\n",
    "# dataset = (dataset-data_mean)/data_std\n",
    "from sklearn.preprocessing import StandardScaler\n",
    "scaler = StandardScaler()\n",
    "scaler.fit(dataset[:TRAIN_SPLIT])\n",
    "dataset = scaler.transform(dataset)\n",
    "\n",
    "plt.plot(dataset)\n",
    "plt.show()"
   ]
  },
  {
   "cell_type": "code",
   "execution_count": 4,
   "metadata": {},
   "outputs": [],
   "source": [
    "def multivariate_data(dataset, target, start_index, end_index, history_size,\n",
    "                      target_size, step, single_step=False):\n",
    "  data = []\n",
    "  labels = []\n",
    "\n",
    "  start_index = start_index + history_size\n",
    "  if end_index is None:\n",
    "    end_index = len(dataset) - target_size\n",
    "\n",
    "  for i in range(start_index, end_index):\n",
    "    indices = range(i-history_size, i, step)\n",
    "    data.append(dataset[indices])\n",
    "\n",
    "    if single_step:\n",
    "      labels.append(target[i+target_size])\n",
    "    else:\n",
    "      labels.append(target[i:i+target_size])\n",
    "\n",
    "  return np.array(data), np.array(labels)"
   ]
  },
  {
   "cell_type": "code",
   "execution_count": 5,
   "metadata": {},
   "outputs": [
    {
     "name": "stdout",
     "output_type": "stream",
     "text": [
      "(498, 4)\n",
      "(145, 5, 4) (145,) (343, 5, 4) (343,)\n"
     ]
    }
   ],
   "source": [
    "past_history = 5\n",
    "future_target = 0\n",
    "STEP = 1\n",
    "\n",
    "print(dataset.shape)\n",
    "\n",
    "x_train_single, y_train_single = multivariate_data(dataset, dataset[:, 0], 0,\n",
    "                                                   TRAIN_SPLIT, past_history,\n",
    "                                                   future_target, STEP,\n",
    "                                                   single_step=True)\n",
    "\n",
    "x_val_single, y_val_single = multivariate_data(dataset, dataset[:, 0],\n",
    "                                               TRAIN_SPLIT, None, past_history,\n",
    "                                               future_target, STEP,\n",
    "                                               single_step=True)\n",
    "\n",
    "print(x_train_single.shape, y_train_single.shape, x_val_single.shape, y_val_single.shape)"
   ]
  },
  {
   "cell_type": "code",
   "execution_count": 6,
   "metadata": {},
   "outputs": [],
   "source": [
    "train_data_single = tf.data.Dataset.from_tensor_slices((x_train_single, y_train_single))\n",
    "train_data_single = train_data_single.cache().shuffle(BUFFER_SIZE).batch(BATCH_SIZE).repeat()\n",
    "train_data_single = train_data_single.prefetch(1)\n",
    "# train_data_single = train_data_single.prefetch(buffer_size=1)\n",
    "\n",
    "val_data_single = tf.data.Dataset.from_tensor_slices((x_val_single, y_val_single))\n",
    "val_data_single = val_data_single.batch(BATCH_SIZE).repeat()\n",
    "# val_data_single = val_data_single.prefetch(buffer_size=1)"
   ]
  },
  {
   "cell_type": "markdown",
   "metadata": {},
   "source": [
    "# Define model and Train"
   ]
  },
  {
   "cell_type": "code",
   "execution_count": 7,
   "metadata": {},
   "outputs": [],
   "source": [
    "lstm1_units = 50\n",
    "lstm2_units = 50\n",
    "gaussian_std = 0.01\n",
    "dropout_rate = 0.2\n",
    "\n",
    "single_step_model = tf.keras.models.Sequential()\n",
    "single_step_model.add(tf.keras.layers.GaussianNoise(gaussian_std, input_shape=x_train_single.shape[-2:]))\n",
    "# single_step_model.add(tf.keras.layers.LSTM(lstm1_units, activation='relu', return_sequences=True,\n",
    "#                                            input_shape=x_train_single.shape[-2:]))\n",
    "single_step_model.add(tf.keras.layers.LSTM(lstm1_units, activation='relu',return_sequences=True))\n",
    "single_step_model.add(tf.keras.layers.Dropout(dropout_rate))\n",
    "\n",
    "single_step_model.add(tf.keras.layers.LSTM(lstm2_units, activation='relu', return_sequences = True))\n",
    "single_step_model.add(tf.keras.layers.Dropout(dropout_rate))\n",
    "\n",
    "single_step_model.add(tf.keras.layers.Dense(1))\n",
    "\n",
    "single_step_model.compile(optimizer='adam', loss='mean_squared_error')\n",
    "\n",
    "es = tf.keras.callbacks.EarlyStopping(monitor='val_loss', mode='min', patience=50, verbose=1)"
   ]
  },
  {
   "cell_type": "code",
   "execution_count": 8,
   "metadata": {},
   "outputs": [
    {
     "name": "stdout",
     "output_type": "stream",
     "text": [
      "Model: \"sequential\"\n",
      "_________________________________________________________________\n",
      "Layer (type)                 Output Shape              Param #   \n",
      "=================================================================\n",
      "gaussian_noise (GaussianNois (None, 5, 4)              0         \n",
      "_________________________________________________________________\n",
      "lstm (LSTM)                  (None, 5, 50)             11000     \n",
      "_________________________________________________________________\n",
      "dropout (Dropout)            (None, 5, 50)             0         \n",
      "_________________________________________________________________\n",
      "lstm_1 (LSTM)                (None, 5, 50)             20200     \n",
      "_________________________________________________________________\n",
      "dropout_1 (Dropout)          (None, 5, 50)             0         \n",
      "_________________________________________________________________\n",
      "dense (Dense)                (None, 5, 1)              51        \n",
      "=================================================================\n",
      "Total params: 31,251\n",
      "Trainable params: 31,251\n",
      "Non-trainable params: 0\n",
      "_________________________________________________________________\n"
     ]
    }
   ],
   "source": [
    "single_step_model.summary()"
   ]
  },
  {
   "cell_type": "code",
   "execution_count": 9,
   "metadata": {},
   "outputs": [
    {
     "name": "stdout",
     "output_type": "stream",
     "text": [
      "(32, 5, 1)\n"
     ]
    }
   ],
   "source": [
    "for x, y in val_data_single.take(1):\n",
    "  print(single_step_model.predict(x).shape)"
   ]
  },
  {
   "cell_type": "code",
   "execution_count": 10,
   "metadata": {},
   "outputs": [
    {
     "name": "stdout",
     "output_type": "stream",
     "text": [
      "Train for 4 steps, validate for 50 steps\n",
      "Epoch 1/200\n",
      "4/4 [==============================] - 4s 961ms/step - loss: 0.9951 - val_loss: 2.2554\n",
      "Epoch 2/200\n",
      "4/4 [==============================] - 0s 108ms/step - loss: 0.8478 - val_loss: 2.1303\n",
      "Epoch 3/200\n",
      "4/4 [==============================] - 0s 108ms/step - loss: 0.7633 - val_loss: 1.9665\n",
      "Epoch 4/200\n",
      "4/4 [==============================] - 0s 106ms/step - loss: 0.7363 - val_loss: 1.7766\n",
      "Epoch 5/200\n",
      "4/4 [==============================] - 0s 111ms/step - loss: 0.6719 - val_loss: 1.5422\n",
      "Epoch 6/200\n",
      "4/4 [==============================] - 0s 105ms/step - loss: 0.5544 - val_loss: 1.2555\n",
      "Epoch 7/200\n",
      "4/4 [==============================] - 0s 107ms/step - loss: 0.4794 - val_loss: 1.0193\n",
      "Epoch 8/200\n",
      "4/4 [==============================] - 0s 108ms/step - loss: 0.5828 - val_loss: 0.9694\n",
      "Epoch 9/200\n",
      "4/4 [==============================] - 0s 105ms/step - loss: 0.4795 - val_loss: 1.0057\n",
      "Epoch 10/200\n",
      "4/4 [==============================] - 0s 108ms/step - loss: 0.4991 - val_loss: 1.0282\n",
      "Epoch 11/200\n",
      "4/4 [==============================] - 0s 107ms/step - loss: 0.4686 - val_loss: 1.0398\n",
      "Epoch 12/200\n",
      "4/4 [==============================] - 0s 108ms/step - loss: 0.4468 - val_loss: 0.9935\n",
      "Epoch 13/200\n",
      "4/4 [==============================] - 0s 109ms/step - loss: 0.4964 - val_loss: 0.9235\n",
      "Epoch 14/200\n",
      "4/4 [==============================] - 0s 109ms/step - loss: 0.3884 - val_loss: 0.8370\n",
      "Epoch 15/200\n",
      "4/4 [==============================] - 0s 108ms/step - loss: 0.3694 - val_loss: 0.7727\n",
      "Epoch 16/200\n",
      "4/4 [==============================] - 0s 105ms/step - loss: 0.4324 - val_loss: 0.7418\n",
      "Epoch 17/200\n",
      "4/4 [==============================] - 0s 107ms/step - loss: 0.3488 - val_loss: 0.7395\n",
      "Epoch 18/200\n",
      "4/4 [==============================] - 0s 105ms/step - loss: 0.4466 - val_loss: 0.7346\n",
      "Epoch 19/200\n",
      "4/4 [==============================] - 0s 106ms/step - loss: 0.2699 - val_loss: 0.7182\n",
      "Epoch 20/200\n",
      "4/4 [==============================] - 0s 114ms/step - loss: 0.3796 - val_loss: 0.6862\n",
      "Epoch 21/200\n",
      "4/4 [==============================] - 0s 108ms/step - loss: 0.3643 - val_loss: 0.6455\n",
      "Epoch 22/200\n",
      "4/4 [==============================] - 0s 107ms/step - loss: 0.2966 - val_loss: 0.6143\n",
      "Epoch 23/200\n",
      "4/4 [==============================] - 0s 106ms/step - loss: 0.2498 - val_loss: 0.5862\n",
      "Epoch 24/200\n",
      "4/4 [==============================] - 0s 105ms/step - loss: 0.4925 - val_loss: 0.5552\n",
      "Epoch 25/200\n",
      "4/4 [==============================] - 0s 109ms/step - loss: 0.2548 - val_loss: 0.5273\n",
      "Epoch 26/200\n",
      "4/4 [==============================] - 0s 105ms/step - loss: 0.3362 - val_loss: 0.5083\n",
      "Epoch 27/200\n",
      "4/4 [==============================] - 0s 111ms/step - loss: 0.1673 - val_loss: 0.4942\n",
      "Epoch 28/200\n",
      "4/4 [==============================] - 0s 109ms/step - loss: 0.4144 - val_loss: 0.4563\n",
      "Epoch 29/200\n",
      "4/4 [==============================] - 0s 105ms/step - loss: 0.3740 - val_loss: 0.4173\n",
      "Epoch 30/200\n",
      "4/4 [==============================] - 0s 120ms/step - loss: 0.3087 - val_loss: 0.3918\n",
      "Epoch 31/200\n",
      "4/4 [==============================] - 0s 118ms/step - loss: 0.2931 - val_loss: 0.3805\n",
      "Epoch 32/200\n",
      "4/4 [==============================] - 0s 107ms/step - loss: 0.1787 - val_loss: 0.3501\n",
      "Epoch 33/200\n",
      "4/4 [==============================] - 0s 111ms/step - loss: 0.3336 - val_loss: 0.3240\n",
      "Epoch 34/200\n",
      "4/4 [==============================] - 0s 121ms/step - loss: 0.1828 - val_loss: 0.3035\n",
      "Epoch 35/200\n",
      "4/4 [==============================] - 1s 126ms/step - loss: 0.2882 - val_loss: 0.3074\n",
      "Epoch 36/200\n",
      "4/4 [==============================] - 0s 105ms/step - loss: 0.2525 - val_loss: 0.3103\n",
      "Epoch 37/200\n",
      "4/4 [==============================] - 0s 110ms/step - loss: 0.3262 - val_loss: 0.2821\n",
      "Epoch 38/200\n",
      "4/4 [==============================] - 0s 117ms/step - loss: 0.2162 - val_loss: 0.2723\n",
      "Epoch 39/200\n",
      "4/4 [==============================] - 0s 121ms/step - loss: 0.1621 - val_loss: 0.2726\n",
      "Epoch 40/200\n",
      "4/4 [==============================] - 0s 122ms/step - loss: 0.3109 - val_loss: 0.2686\n",
      "Epoch 41/200\n",
      "4/4 [==============================] - 0s 123ms/step - loss: 0.2747 - val_loss: 0.2543\n",
      "Epoch 42/200\n",
      "4/4 [==============================] - 0s 123ms/step - loss: 0.2119 - val_loss: 0.2413\n",
      "Epoch 43/200\n",
      "4/4 [==============================] - 0s 107ms/step - loss: 0.2143 - val_loss: 0.2237\n",
      "Epoch 44/200\n",
      "4/4 [==============================] - 0s 123ms/step - loss: 0.2599 - val_loss: 0.2257\n",
      "Epoch 45/200\n",
      "4/4 [==============================] - 0s 105ms/step - loss: 0.2281 - val_loss: 0.2322\n",
      "Epoch 46/200\n",
      "4/4 [==============================] - 1s 127ms/step - loss: 0.2059 - val_loss: 0.2206\n",
      "Epoch 47/200\n",
      "4/4 [==============================] - 0s 115ms/step - loss: 0.3606 - val_loss: 0.2084\n",
      "Epoch 48/200\n",
      "4/4 [==============================] - 0s 112ms/step - loss: 0.2352 - val_loss: 0.2076\n",
      "Epoch 49/200\n",
      "4/4 [==============================] - 0s 110ms/step - loss: 0.0966 - val_loss: 0.1996\n",
      "Epoch 50/200\n",
      "4/4 [==============================] - 0s 108ms/step - loss: 0.3381 - val_loss: 0.1966\n",
      "Epoch 51/200\n",
      "4/4 [==============================] - 0s 122ms/step - loss: 0.2642 - val_loss: 0.1950\n",
      "Epoch 52/200\n",
      "4/4 [==============================] - 1s 128ms/step - loss: 0.2562 - val_loss: 0.1802\n",
      "Epoch 53/200\n",
      "4/4 [==============================] - 0s 118ms/step - loss: 0.2612 - val_loss: 0.1745\n",
      "Epoch 54/200\n",
      "4/4 [==============================] - 0s 117ms/step - loss: 0.0592 - val_loss: 0.1722\n",
      "Epoch 55/200\n",
      "4/4 [==============================] - 1s 138ms/step - loss: 0.2871 - val_loss: 0.1609\n",
      "Epoch 56/200\n",
      "4/4 [==============================] - 0s 123ms/step - loss: 0.2504 - val_loss: 0.1612\n",
      "Epoch 57/200\n",
      "4/4 [==============================] - 0s 118ms/step - loss: 0.1516 - val_loss: 0.1752\n",
      "Epoch 58/200\n",
      "4/4 [==============================] - 0s 107ms/step - loss: 0.1575 - val_loss: 0.1958\n",
      "Epoch 59/200\n",
      "4/4 [==============================] - 0s 113ms/step - loss: 0.3193 - val_loss: 0.1781\n",
      "Epoch 60/200\n",
      "4/4 [==============================] - 0s 111ms/step - loss: 0.1959 - val_loss: 0.1512\n",
      "Epoch 61/200\n",
      "4/4 [==============================] - 0s 106ms/step - loss: 0.1969 - val_loss: 0.1503\n",
      "Epoch 62/200\n",
      "4/4 [==============================] - 0s 110ms/step - loss: 0.2410 - val_loss: 0.1655\n",
      "Epoch 63/200\n",
      "4/4 [==============================] - 0s 112ms/step - loss: 0.1577 - val_loss: 0.1719\n",
      "Epoch 64/200\n",
      "4/4 [==============================] - 0s 118ms/step - loss: 0.2312 - val_loss: 0.1607\n",
      "Epoch 65/200\n",
      "4/4 [==============================] - 0s 109ms/step - loss: 0.3484 - val_loss: 0.1531\n",
      "Epoch 66/200\n",
      "4/4 [==============================] - 0s 109ms/step - loss: 0.2418 - val_loss: 0.1398\n",
      "Epoch 67/200\n",
      "4/4 [==============================] - 0s 117ms/step - loss: 0.1616 - val_loss: 0.1320\n",
      "Epoch 68/200\n",
      "4/4 [==============================] - 0s 109ms/step - loss: 0.1551 - val_loss: 0.1490\n",
      "Epoch 69/200\n",
      "4/4 [==============================] - 0s 108ms/step - loss: 0.3237 - val_loss: 0.1614\n",
      "Epoch 70/200\n",
      "4/4 [==============================] - 0s 105ms/step - loss: 0.2538 - val_loss: 0.1543\n",
      "Epoch 71/200\n",
      "4/4 [==============================] - 0s 105ms/step - loss: 0.2167 - val_loss: 0.1263\n",
      "Epoch 72/200\n",
      "4/4 [==============================] - 0s 113ms/step - loss: 0.2838 - val_loss: 0.1138\n",
      "Epoch 73/200\n",
      "4/4 [==============================] - 0s 109ms/step - loss: 0.1919 - val_loss: 0.1330\n",
      "Epoch 74/200\n",
      "4/4 [==============================] - 1s 132ms/step - loss: 0.2191 - val_loss: 0.1459\n",
      "Epoch 75/200\n",
      "4/4 [==============================] - 0s 111ms/step - loss: 0.1389 - val_loss: 0.1404\n",
      "Epoch 76/200\n",
      "4/4 [==============================] - 0s 118ms/step - loss: 0.2495 - val_loss: 0.1273\n",
      "Epoch 77/200\n",
      "4/4 [==============================] - 0s 107ms/step - loss: 0.2491 - val_loss: 0.1161\n",
      "Epoch 78/200\n",
      "4/4 [==============================] - 0s 115ms/step - loss: 0.0705 - val_loss: 0.1230\n",
      "Epoch 79/200\n",
      "4/4 [==============================] - 0s 120ms/step - loss: 0.3383 - val_loss: 0.1380\n",
      "Epoch 80/200\n",
      "4/4 [==============================] - 0s 107ms/step - loss: 0.2312 - val_loss: 0.1396\n",
      "Epoch 81/200\n",
      "4/4 [==============================] - 0s 112ms/step - loss: 0.2442 - val_loss: 0.1244\n",
      "Epoch 82/200\n"
     ]
    },
    {
     "name": "stdout",
     "output_type": "stream",
     "text": [
      "4/4 [==============================] - 0s 115ms/step - loss: 0.2238 - val_loss: 0.1179\n",
      "Epoch 83/200\n",
      "4/4 [==============================] - 0s 125ms/step - loss: 0.2458 - val_loss: 0.1375\n",
      "Epoch 84/200\n",
      "4/4 [==============================] - 0s 107ms/step - loss: 0.0605 - val_loss: 0.1448\n",
      "Epoch 85/200\n",
      "4/4 [==============================] - 0s 109ms/step - loss: 0.2528 - val_loss: 0.1365\n",
      "Epoch 86/200\n",
      "4/4 [==============================] - 0s 119ms/step - loss: 0.2501 - val_loss: 0.1229\n",
      "Epoch 87/200\n",
      "4/4 [==============================] - 0s 109ms/step - loss: 0.2228 - val_loss: 0.1098\n",
      "Epoch 88/200\n",
      "4/4 [==============================] - 0s 109ms/step - loss: 0.1611 - val_loss: 0.1139\n",
      "Epoch 89/200\n",
      "4/4 [==============================] - 0s 105ms/step - loss: 0.2194 - val_loss: 0.1258\n",
      "Epoch 90/200\n",
      "4/4 [==============================] - 0s 107ms/step - loss: 0.1667 - val_loss: 0.1238\n",
      "Epoch 91/200\n",
      "4/4 [==============================] - 0s 113ms/step - loss: 0.2476 - val_loss: 0.1120\n",
      "Epoch 92/200\n",
      "4/4 [==============================] - 0s 106ms/step - loss: 0.1322 - val_loss: 0.1003\n",
      "Epoch 93/200\n",
      "4/4 [==============================] - 0s 115ms/step - loss: 0.2595 - val_loss: 0.1093\n",
      "Epoch 94/200\n",
      "4/4 [==============================] - 0s 114ms/step - loss: 0.3020 - val_loss: 0.1195\n",
      "Epoch 95/200\n",
      "4/4 [==============================] - 0s 111ms/step - loss: 0.1096 - val_loss: 0.1110\n",
      "Epoch 96/200\n",
      "4/4 [==============================] - 0s 115ms/step - loss: 0.2295 - val_loss: 0.0968\n",
      "Epoch 97/200\n",
      "4/4 [==============================] - 0s 115ms/step - loss: 0.2530 - val_loss: 0.0937\n",
      "Epoch 98/200\n",
      "4/4 [==============================] - 0s 116ms/step - loss: 0.0874 - val_loss: 0.1039\n",
      "Epoch 99/200\n",
      "4/4 [==============================] - 1s 133ms/step - loss: 0.2924 - val_loss: 0.1100\n",
      "Epoch 100/200\n",
      "4/4 [==============================] - 0s 120ms/step - loss: 0.2294 - val_loss: 0.1067\n",
      "Epoch 101/200\n",
      "4/4 [==============================] - 0s 118ms/step - loss: 0.2456 - val_loss: 0.1014\n",
      "Epoch 102/200\n",
      "4/4 [==============================] - 1s 126ms/step - loss: 0.1526 - val_loss: 0.1014\n",
      "Epoch 103/200\n",
      "4/4 [==============================] - 0s 119ms/step - loss: 0.1808 - val_loss: 0.1074\n",
      "Epoch 104/200\n",
      "4/4 [==============================] - 1s 127ms/step - loss: 0.1979 - val_loss: 0.1139\n",
      "Epoch 105/200\n",
      "4/4 [==============================] - 1s 127ms/step - loss: 0.2394 - val_loss: 0.1128\n",
      "Epoch 106/200\n",
      "4/4 [==============================] - 0s 113ms/step - loss: 0.2474 - val_loss: 0.1065\n",
      "Epoch 107/200\n",
      "4/4 [==============================] - 0s 115ms/step - loss: 0.1931 - val_loss: 0.1055\n",
      "Epoch 108/200\n",
      "4/4 [==============================] - 0s 110ms/step - loss: 0.1079 - val_loss: 0.1143\n",
      "Epoch 109/200\n",
      "4/4 [==============================] - 0s 110ms/step - loss: 0.3003 - val_loss: 0.1033\n",
      "Epoch 110/200\n",
      "4/4 [==============================] - 0s 113ms/step - loss: 0.2415 - val_loss: 0.0918\n",
      "Epoch 111/200\n",
      "4/4 [==============================] - 0s 109ms/step - loss: 0.2381 - val_loss: 0.0897\n",
      "Epoch 112/200\n",
      "4/4 [==============================] - 0s 109ms/step - loss: 0.1855 - val_loss: 0.0946\n",
      "Epoch 113/200\n",
      "4/4 [==============================] - 0s 107ms/step - loss: 0.2719 - val_loss: 0.0975\n",
      "Epoch 114/200\n",
      "4/4 [==============================] - 0s 112ms/step - loss: 0.0918 - val_loss: 0.0914\n",
      "Epoch 115/200\n",
      "4/4 [==============================] - 0s 111ms/step - loss: 0.2456 - val_loss: 0.0838\n",
      "Epoch 116/200\n",
      "4/4 [==============================] - 0s 110ms/step - loss: 0.2254 - val_loss: 0.0904\n",
      "Epoch 117/200\n",
      "4/4 [==============================] - 0s 107ms/step - loss: 0.2805 - val_loss: 0.1061\n",
      "Epoch 118/200\n",
      "4/4 [==============================] - 0s 114ms/step - loss: 0.1418 - val_loss: 0.0974\n",
      "Epoch 119/200\n",
      "4/4 [==============================] - 0s 108ms/step - loss: 0.2511 - val_loss: 0.0811\n",
      "Epoch 120/200\n",
      "4/4 [==============================] - 0s 104ms/step - loss: 0.1619 - val_loss: 0.0892\n",
      "Epoch 121/200\n",
      "4/4 [==============================] - 0s 114ms/step - loss: 0.2370 - val_loss: 0.0988\n",
      "Epoch 122/200\n",
      "4/4 [==============================] - 0s 115ms/step - loss: 0.2074 - val_loss: 0.0916\n",
      "Epoch 123/200\n",
      "4/4 [==============================] - 0s 106ms/step - loss: 0.0817 - val_loss: 0.0888\n",
      "Epoch 124/200\n",
      "4/4 [==============================] - 0s 115ms/step - loss: 0.4076 - val_loss: 0.1001\n",
      "Epoch 125/200\n",
      "4/4 [==============================] - 0s 106ms/step - loss: 0.2021 - val_loss: 0.0989\n",
      "Epoch 126/200\n",
      "4/4 [==============================] - 0s 115ms/step - loss: 0.2407 - val_loss: 0.0882\n",
      "Epoch 127/200\n",
      "4/4 [==============================] - 0s 105ms/step - loss: 0.1946 - val_loss: 0.0860\n",
      "Epoch 128/200\n",
      "4/4 [==============================] - 0s 105ms/step - loss: 0.1358 - val_loss: 0.0877\n",
      "Epoch 129/200\n",
      "4/4 [==============================] - 0s 108ms/step - loss: 0.2540 - val_loss: 0.0881\n",
      "Epoch 130/200\n",
      "4/4 [==============================] - 0s 106ms/step - loss: 0.2334 - val_loss: 0.0923\n",
      "Epoch 131/200\n",
      "4/4 [==============================] - 0s 108ms/step - loss: 0.2347 - val_loss: 0.0839\n",
      "Epoch 132/200\n",
      "4/4 [==============================] - 0s 104ms/step - loss: 0.2069 - val_loss: 0.0784\n",
      "Epoch 133/200\n",
      "4/4 [==============================] - 0s 107ms/step - loss: 0.1090 - val_loss: 0.0836\n",
      "Epoch 134/200\n",
      "4/4 [==============================] - 0s 113ms/step - loss: 0.2764 - val_loss: 0.0868\n",
      "Epoch 135/200\n",
      "4/4 [==============================] - 0s 111ms/step - loss: 0.1870 - val_loss: 0.0814\n",
      "Epoch 136/200\n",
      "4/4 [==============================] - 0s 109ms/step - loss: 0.2396 - val_loss: 0.0778\n",
      "Epoch 137/200\n",
      "4/4 [==============================] - 0s 111ms/step - loss: 0.1317 - val_loss: 0.0823\n",
      "Epoch 138/200\n",
      "4/4 [==============================] - 0s 120ms/step - loss: 0.2410 - val_loss: 0.0854\n",
      "Epoch 139/200\n",
      "4/4 [==============================] - 0s 106ms/step - loss: 0.2640 - val_loss: 0.0800\n",
      "Epoch 140/200\n",
      "4/4 [==============================] - 0s 110ms/step - loss: 0.1236 - val_loss: 0.0753\n",
      "Epoch 141/200\n",
      "4/4 [==============================] - 0s 107ms/step - loss: 0.2364 - val_loss: 0.0801\n",
      "Epoch 142/200\n",
      "4/4 [==============================] - 0s 112ms/step - loss: 0.2123 - val_loss: 0.0868\n",
      "Epoch 143/200\n",
      "4/4 [==============================] - 0s 113ms/step - loss: 0.1612 - val_loss: 0.0922\n",
      "Epoch 144/200\n",
      "4/4 [==============================] - 0s 110ms/step - loss: 0.2363 - val_loss: 0.0796\n",
      "Epoch 145/200\n",
      "4/4 [==============================] - 0s 109ms/step - loss: 0.2584 - val_loss: 0.0743\n",
      "Epoch 146/200\n",
      "4/4 [==============================] - 0s 110ms/step - loss: 0.2281 - val_loss: 0.0910\n",
      "Epoch 147/200\n",
      "4/4 [==============================] - 0s 125ms/step - loss: 0.1296 - val_loss: 0.0986\n",
      "Epoch 148/200\n",
      "4/4 [==============================] - 0s 121ms/step - loss: 0.2308 - val_loss: 0.0848\n",
      "Epoch 149/200\n",
      "4/4 [==============================] - 0s 112ms/step - loss: 0.3633 - val_loss: 0.0790\n",
      "Epoch 150/200\n",
      "4/4 [==============================] - 0s 107ms/step - loss: 0.1016 - val_loss: 0.0839\n",
      "Epoch 151/200\n",
      "4/4 [==============================] - 0s 110ms/step - loss: 0.2059 - val_loss: 0.0871\n",
      "Epoch 152/200\n",
      "4/4 [==============================] - 0s 107ms/step - loss: 0.1558 - val_loss: 0.0901\n",
      "Epoch 153/200\n",
      "4/4 [==============================] - 0s 108ms/step - loss: 0.2678 - val_loss: 0.0865\n",
      "Epoch 154/200\n",
      "4/4 [==============================] - 0s 106ms/step - loss: 0.2603 - val_loss: 0.0810\n",
      "Epoch 155/200\n",
      "4/4 [==============================] - 0s 113ms/step - loss: 0.2553 - val_loss: 0.0755\n",
      "Epoch 156/200\n",
      "4/4 [==============================] - 0s 108ms/step - loss: 0.2433 - val_loss: 0.0749\n",
      "Epoch 157/200\n",
      "4/4 [==============================] - 0s 107ms/step - loss: 0.2119 - val_loss: 0.0784\n",
      "Epoch 158/200\n",
      "4/4 [==============================] - 0s 112ms/step - loss: 0.2170 - val_loss: 0.0743\n",
      "Epoch 159/200\n",
      "4/4 [==============================] - 0s 115ms/step - loss: 0.1758 - val_loss: 0.0673\n",
      "Epoch 160/200\n",
      "4/4 [==============================] - 0s 114ms/step - loss: 0.1857 - val_loss: 0.0682\n",
      "Epoch 161/200\n",
      "4/4 [==============================] - 0s 107ms/step - loss: 0.1836 - val_loss: 0.0649\n",
      "Epoch 162/200\n",
      "4/4 [==============================] - 0s 110ms/step - loss: 0.1800 - val_loss: 0.0662\n",
      "Epoch 163/200\n"
     ]
    },
    {
     "name": "stdout",
     "output_type": "stream",
     "text": [
      "4/4 [==============================] - 0s 112ms/step - loss: 0.3151 - val_loss: 0.0645\n",
      "Epoch 164/200\n",
      "4/4 [==============================] - 0s 106ms/step - loss: 0.1460 - val_loss: 0.0644\n",
      "Epoch 165/200\n",
      "4/4 [==============================] - 0s 113ms/step - loss: 0.2065 - val_loss: 0.0724\n",
      "Epoch 166/200\n",
      "4/4 [==============================] - 0s 108ms/step - loss: 0.1308 - val_loss: 0.0779\n",
      "Epoch 167/200\n",
      "4/4 [==============================] - 0s 114ms/step - loss: 0.3993 - val_loss: 0.0811\n",
      "Epoch 168/200\n",
      "4/4 [==============================] - 0s 110ms/step - loss: 0.1198 - val_loss: 0.0692\n",
      "Epoch 169/200\n",
      "4/4 [==============================] - 0s 104ms/step - loss: 0.3338 - val_loss: 0.0670\n",
      "Epoch 170/200\n",
      "4/4 [==============================] - 0s 109ms/step - loss: 0.0874 - val_loss: 0.0801\n",
      "Epoch 171/200\n",
      "4/4 [==============================] - 0s 111ms/step - loss: 0.2370 - val_loss: 0.0833\n",
      "Epoch 172/200\n",
      "4/4 [==============================] - 0s 111ms/step - loss: 0.2421 - val_loss: 0.0759\n",
      "Epoch 173/200\n",
      "4/4 [==============================] - 0s 107ms/step - loss: 0.1381 - val_loss: 0.0771\n",
      "Epoch 174/200\n",
      "4/4 [==============================] - 1s 128ms/step - loss: 0.2296 - val_loss: 0.0813\n",
      "Epoch 175/200\n",
      "4/4 [==============================] - 0s 124ms/step - loss: 0.1708 - val_loss: 0.0742\n",
      "Epoch 176/200\n",
      "4/4 [==============================] - 0s 106ms/step - loss: 0.2337 - val_loss: 0.0690\n",
      "Epoch 177/200\n",
      "4/4 [==============================] - 0s 106ms/step - loss: 0.1852 - val_loss: 0.0677\n",
      "Epoch 178/200\n",
      "4/4 [==============================] - 0s 104ms/step - loss: 0.1569 - val_loss: 0.0660\n",
      "Epoch 179/200\n",
      "4/4 [==============================] - 0s 108ms/step - loss: 0.1952 - val_loss: 0.0675\n",
      "Epoch 180/200\n",
      "4/4 [==============================] - 0s 108ms/step - loss: 0.2112 - val_loss: 0.0628\n",
      "Epoch 181/200\n",
      "4/4 [==============================] - 0s 111ms/step - loss: 0.1370 - val_loss: 0.0572\n",
      "Epoch 182/200\n",
      "4/4 [==============================] - 0s 113ms/step - loss: 0.4030 - val_loss: 0.0592\n",
      "Epoch 183/200\n",
      "4/4 [==============================] - 0s 106ms/step - loss: 0.0625 - val_loss: 0.0707\n",
      "Epoch 184/200\n",
      "4/4 [==============================] - 0s 105ms/step - loss: 0.2420 - val_loss: 0.0638\n",
      "Epoch 185/200\n",
      "4/4 [==============================] - 0s 116ms/step - loss: 0.2107 - val_loss: 0.0604\n",
      "Epoch 186/200\n",
      "4/4 [==============================] - 0s 114ms/step - loss: 0.2344 - val_loss: 0.0717\n",
      "Epoch 187/200\n",
      "4/4 [==============================] - 0s 115ms/step - loss: 0.1816 - val_loss: 0.0740\n",
      "Epoch 188/200\n",
      "4/4 [==============================] - 0s 106ms/step - loss: 0.1165 - val_loss: 0.0673\n",
      "Epoch 189/200\n",
      "4/4 [==============================] - 0s 114ms/step - loss: 0.2397 - val_loss: 0.0573\n",
      "Epoch 190/200\n",
      "4/4 [==============================] - 0s 112ms/step - loss: 0.2398 - val_loss: 0.0609\n",
      "Epoch 191/200\n",
      "4/4 [==============================] - 0s 112ms/step - loss: 0.1308 - val_loss: 0.0651\n",
      "Epoch 192/200\n",
      "4/4 [==============================] - 0s 106ms/step - loss: 0.4097 - val_loss: 0.0614\n",
      "Epoch 193/200\n",
      "4/4 [==============================] - 0s 111ms/step - loss: 0.1410 - val_loss: 0.0601\n",
      "Epoch 194/200\n",
      "4/4 [==============================] - 0s 113ms/step - loss: 0.2096 - val_loss: 0.0591\n",
      "Epoch 195/200\n",
      "4/4 [==============================] - 0s 107ms/step - loss: 0.1830 - val_loss: 0.0605\n",
      "Epoch 196/200\n",
      "4/4 [==============================] - 0s 110ms/step - loss: 0.2356 - val_loss: 0.0606\n",
      "Epoch 197/200\n",
      "4/4 [==============================] - 0s 111ms/step - loss: 0.2464 - val_loss: 0.0603\n",
      "Epoch 198/200\n",
      "4/4 [==============================] - 0s 108ms/step - loss: 0.0389 - val_loss: 0.0645\n",
      "Epoch 199/200\n",
      "4/4 [==============================] - 0s 113ms/step - loss: 0.3258 - val_loss: 0.0657\n",
      "Epoch 200/200\n",
      "4/4 [==============================] - 0s 113ms/step - loss: 0.1850 - val_loss: 0.0594\n"
     ]
    }
   ],
   "source": [
    "single_step_history = single_step_model.fit(\n",
    "    train_data_single,\n",
    "    epochs=EPOCHS,\n",
    "    steps_per_epoch=TRAIN_SPLIT//BATCH_SIZE,\n",
    "    validation_data=val_data_single,\n",
    "    validation_steps=50,\n",
    "    use_multiprocessing=True,\n",
    "    workers=8,\n",
    "    callbacks = [es]\n",
    ")"
   ]
  },
  {
   "cell_type": "code",
   "execution_count": 11,
   "metadata": {},
   "outputs": [],
   "source": [
    "def plot_train_history(history, title):\n",
    "  loss = history.history['loss']\n",
    "  val_loss = history.history['val_loss']\n",
    "\n",
    "  epochs = range(len(loss))\n",
    "\n",
    "  plt.figure()\n",
    "\n",
    "  plt.plot(epochs, loss, 'b', label='Training loss')\n",
    "  plt.plot(epochs, val_loss, 'r', label='Validation loss')\n",
    "  plt.title(title)\n",
    "  plt.legend()\n",
    "\n",
    "  plt.show()"
   ]
  },
  {
   "cell_type": "code",
   "execution_count": 12,
   "metadata": {},
   "outputs": [
    {
     "data": {
      "image/png": "[encoded data removed]",
      "text/plain": [
       "<Figure size 432x288 with 1 Axes>"
      ]
     },
     "metadata": {
      "needs_background": "light"
     },
     "output_type": "display_data"
    }
   ],
   "source": [
    "plot_train_history(single_step_history,\n",
    "                   'Single Step Training and validation loss')"
   ]
  },
  {
   "cell_type": "markdown",
   "metadata": {},
   "source": [
    "# Inference"
   ]
  },
  {
   "cell_type": "code",
   "execution_count": 18,
   "metadata": {
    "scrolled": true
   },
   "outputs": [
    {
     "name": "stdout",
     "output_type": "stream",
     "text": [
      "(343, 5, 1)\n",
      "(343, 1)\n",
      "(343,)\n",
      "(145,)\n"
     ]
    },
    {
     "data": {
      "image/png": "[encoded data removed]",
      "text/plain": [
       "<Figure size 432x288 with 1 Axes>"
      ]
     },
     "metadata": {
      "needs_background": "light"
     },
     "output_type": "display_data"
    }
   ],
   "source": [
    "y_hat = single_step_model.predict(x_val_single)\n",
    "print(y_hat.shape)\n",
    "print(y_hat[:,-1].shape)\n",
    "print(y_val_single.shape)\n",
    "print(y_train_single.shape)\n",
    "plt.plot(y_hat[:,-1], label='prediction')\n",
    "plt.plot(y_val_single, label='true')\n",
    "# plt.plot(dataset[TRAIN_SPLIT:][:,0], label='from_dataset')\n",
    "plt.legend()\n",
    "plt.show()"
   ]
  },
  {
   "cell_type": "code",
   "execution_count": 19,
   "metadata": {},
   "outputs": [
    {
     "data": {
      "image/png": "[encoded data removed]",
      "text/plain": [
       "<Figure size 432x288 with 1 Axes>"
      ]
     },
     "metadata": {
      "needs_background": "light"
     },
     "output_type": "display_data"
    }
   ],
   "source": [
    "y_hat_inverse = y_hat[:,-1] * np.sqrt(scaler.var_[0]) + scaler.mean_[0]\n",
    "y_val_inverse = y_val_single * np.sqrt(scaler.var_[0]) + scaler.mean_[0]\n",
    "y_train_inverse = y_train_single * np.sqrt(scaler.var_[0]) + scaler.mean_[0]\n",
    "\n",
    "y_train_inverse = y_train_inverse.reshape((-1, 1))\n",
    "y_predicted = np.concatenate((y_train_inverse, y_hat_inverse), axis = None)\n",
    "y_true = np.concatenate((y_train_inverse, y_val_inverse.reshape((-1, 1))), axis = None)\n",
    "\n",
    "plt.plot(y_predicted, linestyle='-', label='prediction')\n",
    "plt.plot(y_true, linestyle='-', label='true')\n",
    "plt.xlabel('date')\n",
    "plt.ylabel('WOPR')\n",
    "plt.title('WOPR true vs prediction')\n",
    "plt.legend()\n",
    "plt.show()"
   ]
  },
  {
   "cell_type": "markdown",
   "metadata": {},
   "source": [
    "# Evaluate the model"
   ]
  },
  {
   "cell_type": "code",
   "execution_count": 20,
   "metadata": {},
   "outputs": [],
   "source": [
    "# y_hat_inverse = y_hat[:,-1] * np.sqrt(scaler.var_[0]) + scaler.mean_[0]\n",
    "# y_val_inverse = y_val_single * np.sqrt(scaler.var_[0]) + scaler.mean_[0]\n",
    "# print(y_hat_inverse.shape)\n",
    "# print(y_val_inverse.reshape((-1, 1)).shape)"
   ]
  },
  {
   "cell_type": "code",
   "execution_count": 21,
   "metadata": {},
   "outputs": [
    {
     "name": "stdout",
     "output_type": "stream",
     "text": [
      "Test RMSE: 20.080\n"
     ]
    }
   ],
   "source": [
    "# calculate RMSE\n",
    "from math import sqrt\n",
    "from sklearn.metrics import mean_squared_error\n",
    "\n",
    "rmse = sqrt(mean_squared_error(y_val_inverse, y_hat_inverse))\n",
    "print('Test RMSE: %.3f' % rmse)"
   ]
  },
  {
   "cell_type": "code",
   "execution_count": 22,
   "metadata": {},
   "outputs": [],
   "source": [
    "result_dir = pjoin(DATA_PATH, RESULT_FILE_NAME)\n",
    "\n",
    "with open(result_dir, \"a\") as f:\n",
    "    f.write(f\"{well_index}, {model_index}, {rmse}, {BATCH_SIZE}, {EPOCHS}, {TRAIN_SPLIT}, {past_history}, {future_target}, {lstm1_units}, {lstm2_units}, {gaussian_std}, {dropout_rate}\")\n",
    "    f.close()"
   ]
  },
  {
   "cell_type": "code",
   "execution_count": null,
   "metadata": {},
   "outputs": [],
   "source": [
    "tf.keras.backend.clear_session()"
   ]
  },
  {
   "cell_type": "code",
   "execution_count": null,
   "metadata": {},
   "outputs": [],
   "source": []
  }
 ],
 "metadata": {
  "kernelspec": {
   "display_name": "Python 3",
   "language": "python",
   "name": "python3"
  },
  "language_info": {
   "codemirror_mode": {
    "name": "ipython",
    "version": 3
   },
   "file_extension": ".py",
   "mimetype": "text/x-python",
   "name": "python",
   "nbconvert_exporter": "python",
   "pygments_lexer": "ipython3",
   "version": "3.7.1"
  }
 },
 "nbformat": 4,
 "nbformat_minor": 2
}
