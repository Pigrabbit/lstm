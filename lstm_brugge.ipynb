{
 "cells": [
  {
   "cell_type": "markdown",
   "metadata": {},
   "source": [
    "## Load Data"
   ]
  },
  {
   "cell_type": "code",
   "execution_count": 1,
   "metadata": {},
   "outputs": [],
   "source": [
    "import numpy as np\n",
    "from os.path import dirname, join as pjoin\n",
    "import scipy.io as sio\n",
    "import pandas as pd\n",
    "\n",
    "DATA_PATH = './data'\n",
    "DATA_FILE_NAME = 'Brugge_en_d.mat'\n",
    "\n",
    "data_dir = pjoin(DATA_PATH, DATA_FILE_NAME)\n",
    "mat_contents = sio.loadmat(data_dir)"
   ]
  },
  {
   "cell_type": "code",
   "execution_count": 2,
   "metadata": {},
   "outputs": [
    {
     "name": "stdout",
     "output_type": "stream",
     "text": [
      "Type: <class 'numpy.ndarray'>, Shape (1, 1)\n"
     ]
    }
   ],
   "source": [
    "print(\"Type: {0}, Shape {1}\".format(type(mat_contents['en_d']), mat_contents['en_d'].shape))\n",
    "data = mat_contents['en_d'][0, 0]"
   ]
  },
  {
   "cell_type": "code",
   "execution_count": 3,
   "metadata": {},
   "outputs": [
    {
     "name": "stdout",
     "output_type": "stream",
     "text": [
      "TIME\n",
      "numpy array shape: (498, 1)\n",
      "(498,)\n"
     ]
    }
   ],
   "source": [
    "# TIME\n",
    "# series of days (498 days between day 0-3648), not continuous\n",
    "# not only integer, contains several float\n",
    "print(\"TIME\")\n",
    "print(\"numpy array shape: {}\".format(data['TIME'].shape))"
   ]
  },
  {
   "cell_type": "code",
   "execution_count": 4,
   "metadata": {},
   "outputs": [
    {
     "name": "stdout",
     "output_type": "stream",
     "text": [
      "WBHP\n",
      "numpy array shape: (1, 1)\n",
      "Producer P1 numpy array shape: (498, 104)\n",
      "Injectre I1 numpy array shape: (498, 104)\n"
     ]
    }
   ],
   "source": [
    "# WBHP\n",
    "# Well Bottom Hole Pressure\n",
    "# daily data 498 days for 104 models\n",
    "print(\"WBHP\")\n",
    "print(\"numpy array shape: {}\".format(data['WBHP'].shape))\n",
    "# Producers P1-P20\n",
    "# and Injectors I1-I10\n",
    "# shape of each is 498x104 double\n",
    "print(\"Producer P1 numpy array shape: {}\".format(data['WBHP'][0,0]['P1'].shape))\n",
    "print(\"Injectre I1 numpy array shape: {}\".format(data['WBHP'][0,0]['I1'].shape))"
   ]
  },
  {
   "cell_type": "code",
   "execution_count": 5,
   "metadata": {},
   "outputs": [
    {
     "name": "stdout",
     "output_type": "stream",
     "text": [
      "WWCT\n",
      "numpy array shape: (1, 1)\n",
      "Producer P1 numpy array shape: (498, 104)\n"
     ]
    }
   ],
   "source": [
    "# WWCT\n",
    "# Well Water Cut: water/entire_liquid\n",
    "print(\"WWCT\")\n",
    "print(\"numpy array shape: {}\".format(data['WWCT'].shape))\n",
    "# Producers P1-P20\n",
    "print(\"Producer P1 numpy array shape: {}\".format(data['WWCT'][0,0]['P1'].shape))"
   ]
  },
  {
   "cell_type": "code",
   "execution_count": 6,
   "metadata": {},
   "outputs": [
    {
     "name": "stdout",
     "output_type": "stream",
     "text": [
      "WOPR\n",
      "numpy array shape: (1, 1)\n",
      "Producer P1 numpy array shape: (498, 104)\n"
     ]
    }
   ],
   "source": [
    "# WOPR\n",
    "# Well Oil Production Rate: bbl/day\n",
    "# What we want to forecast, this will be used as label\n",
    "print(\"WOPR\")\n",
    "print(\"numpy array shape: {}\".format(data['WOPR'].shape))\n",
    "# Producers P1-P20, index 0-19\n",
    "print(\"Producer P1 numpy array shape: {}\".format(data['WOPR'][0,0]['P1'].shape))"
   ]
  },
  {
   "cell_type": "code",
   "execution_count": 7,
   "metadata": {},
   "outputs": [
    {
     "name": "stdout",
     "output_type": "stream",
     "text": [
      "WWPR\n",
      "numpy array shape: (1, 1)\n",
      "Producer P1 numpy array shape: (498, 104)\n"
     ]
    }
   ],
   "source": [
    "# WWPR\n",
    "# Well Water Production Rate\n",
    "print(\"WWPR\")\n",
    "print(\"numpy array shape: {}\".format(data['WWPR'].shape))\n",
    "# Producers P1-P20\n",
    "print(\"Producer P1 numpy array shape: {}\".format(data['WWPR'][0,0]['P1'].shape))"
   ]
  },
  {
   "cell_type": "code",
   "execution_count": 8,
   "metadata": {},
   "outputs": [
    {
     "name": "stdout",
     "output_type": "stream",
     "text": [
      "WWIR\n",
      "numpy array shape: (1, 1)\n",
      "Injector 1 numpy array shape: (498, 104)\n"
     ]
    }
   ],
   "source": [
    "# WWIR\n",
    "# Well Water Injection Rate\n",
    "print(\"WWIR\")\n",
    "print(\"numpy array shape: {}\".format(data['WWIR'].shape))\n",
    "# Injectors I1-I10\n",
    "print(\"Injector 1 numpy array shape: {}\".format(data['WWIR'][0,0]['I1'].shape))"
   ]
  },
  {
   "cell_type": "code",
   "execution_count": 9,
   "metadata": {},
   "outputs": [
    {
     "name": "stdout",
     "output_type": "stream",
     "text": [
      "FOPT\n",
      "numpy array shape: (498, 104)\n",
      "FWPT\n",
      "numpy array shape: (498, 104)\n",
      "FPR\n",
      "numpy array shape: (498, 104)\n"
     ]
    }
   ],
   "source": [
    "# FOPT\n",
    "# Field Oil Production Total: sum of WOPR * days\n",
    "print(\"FOPT\")\n",
    "print(\"numpy array shape: {}\".format(data['FOPT'].shape))\n",
    "# FWPT\n",
    "# Field Water Production Total\n",
    "print(\"FWPT\")\n",
    "print(\"numpy array shape: {}\".format(data['FWPT'].shape))\n",
    "# FPR\n",
    "# Field Production Rate: FOPR + FWPR\n",
    "print(\"FPR\")\n",
    "print(\"numpy array shape: {}\".format(data['FPR'].shape))"
   ]
  },
  {
   "cell_type": "code",
   "execution_count": 10,
   "metadata": {},
   "outputs": [
    {
     "name": "stdout",
     "output_type": "stream",
     "text": [
      "WWBT\n",
      "numpy array shape: (1, 1)\n",
      "Producer P5 numpy array shape: (1, 104)\n"
     ]
    }
   ],
   "source": [
    "# WWBT\n",
    "# Well W B Total\n",
    "print(\"WWBT\")\n",
    "print(\"numpy array shape: {}\".format(data['WWBT'].shape))\n",
    "# Producers P5,P11-P20\n",
    "print(\"Producer P5 numpy array shape: {}\".format(data['WWBT'][0,0]['P5'].shape))"
   ]
  },
  {
   "cell_type": "markdown",
   "metadata": {},
   "source": [
    "# Data Preparation\n",
    "\n",
    "각 model 별로 아래와 같은 Dataframe 을 만들자.\n",
    "\n",
    "|date|WOPR|WBHP|WWCT|WWPR|\n",
    "|--|--|--|--|--|\n",
    "|0.0|0.0|0.0|0.0|0.0|\n",
    "|1.0|0.0|0.0|0.0|0.0\n",
    "| . | . | . | . | . |\n",
    "|3641.0|1998.772|1393.615|0.001552|3.107502|\n",
    "|3648.0|1998.775|1393.951|0.001551|3.105065|"
   ]
  },
  {
   "cell_type": "code",
   "execution_count": 14,
   "metadata": {},
   "outputs": [],
   "source": [
    "#  'well_num' => dfs_dic\n",
    "dic_wells = {}\n",
    "for well_index in range(20): # well, Producer P1-P20\n",
    "    # 'model_num' => dataframe\n",
    "    dic_models = {}\n",
    "    well_key = 'P' + str(well_index+1)\n",
    "    for model_index in range(104): # model, model 1-104\n",
    "        well_data = np.array([\n",
    "            data['WOPR'][0,0][well_key][:,model_index],\n",
    "            data['WBHP'][0,0][well_key][:,model_index],\n",
    "            data['WWCT'][0,0][well_key][:,model_index],\n",
    "            data['WWPR'][0,0][well_key][:,model_index]\n",
    "          ])\n",
    "        # col1: WOPR, col2: WBHP, col3: WWCT, col4: WWPR\n",
    "        # row1: day1, ... row 498: day3648\n",
    "        well_data = well_data.T\n",
    "        df = pd.DataFrame(data=well_data,\n",
    "                          index=data['TIME'].flatten(),\n",
    "                          columns=['WOPR', 'WBHP', 'WWCT', 'WWPR'])\n",
    "        df.index.name = 'date'\n",
    "        dic_models[str(model_index+1)] = df\n",
    "        \n",
    "    dic_wells[str(well_index+1)] = dic_models"
   ]
  },
  {
   "cell_type": "code",
   "execution_count": 15,
   "metadata": {},
   "outputs": [
    {
     "name": "stdout",
     "output_type": "stream",
     "text": [
      "      WOPR  WBHP  WWCT  WWPR\n",
      "date                        \n",
      "0.0    0.0   0.0   0.0   0.0\n",
      "1.0    0.0   0.0   0.0   0.0\n",
      "2.0    0.0   0.0   0.0   0.0\n",
      "3.0    0.0   0.0   0.0   0.0\n",
      "4.0    0.0   0.0   0.0   0.0\n",
      "            WOPR      WBHP      WWCT      WWPR\n",
      "date                                          \n",
      "3620.0  1998.766  1392.616  0.001556  3.114186\n",
      "3637.0  1998.771  1393.426  0.001553  3.108850\n",
      "3638.0  1998.771  1393.473  0.001553  3.108501\n",
      "3641.0  1998.772  1393.615  0.001552  3.107502\n",
      "3648.0  1998.775  1393.951  0.001551  3.105065\n",
      "      WOPR  WBHP  WWCT  WWPR\n",
      "date                        \n",
      "0.0    0.0   0.0   0.0   0.0\n",
      "1.0    0.0   0.0   0.0   0.0\n",
      "2.0    0.0   0.0   0.0   0.0\n",
      "3.0    0.0   0.0   0.0   0.0\n",
      "4.0    0.0   0.0   0.0   0.0\n",
      "            WOPR      WBHP      WWCT      WWPR\n",
      "date                                          \n",
      "3620.0  218.9907  1941.845  0.890304  1777.349\n",
      "3637.0  217.7559  1942.740  0.890922  1778.584\n",
      "3638.0  217.6854  1942.795  0.890958  1778.655\n",
      "3641.0  217.4646  1942.956  0.891068  1778.875\n",
      "3648.0  216.9677  1943.318  0.891317  1779.372\n"
     ]
    }
   ],
   "source": [
    "# [well_num][model_num]\n",
    "print(dic_well['1']['1'].head())\n",
    "print(dic_well['1']['1'].tail())\n",
    "print(dic_well['20']['1'].head())\n",
    "print(dic_well['20']['1'].tail())"
   ]
  }
 ],
 "metadata": {
  "kernelspec": {
   "display_name": "Python 3",
   "language": "python",
   "name": "python3"
  },
  "language_info": {
   "codemirror_mode": {
    "name": "ipython",
    "version": 3
   },
   "file_extension": ".py",
   "mimetype": "text/x-python",
   "name": "python",
   "nbconvert_exporter": "python",
   "pygments_lexer": "ipython3",
   "version": "3.7.4"
  }
 },
 "nbformat": 4,
 "nbformat_minor": 2
}
