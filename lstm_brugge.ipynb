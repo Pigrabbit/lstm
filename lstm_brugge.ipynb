{
 "cells": [
  {
   "cell_type": "markdown",
   "metadata": {},
   "source": [
    "## Load Data"
   ]
  },
  {
   "cell_type": "code",
   "execution_count": 1,
   "metadata": {},
   "outputs": [],
   "source": [
    "import numpy as np\n",
    "from os.path import dirname, join as pjoin\n",
    "import scipy.io as sio\n",
    "import pandas as pd\n",
    "\n",
    "DATA_PATH = './data'\n",
    "DATA_FILE_NAME = 'Brugge_en_d.mat'\n",
    "\n",
    "data_dir = pjoin(DATA_PATH, DATA_FILE_NAME)\n",
    "mat_contents = sio.loadmat(data_dir)\n",
    "\n",
    "data = mat_contents['en_d'][0, 0]"
   ]
  },
  {
   "cell_type": "code",
   "execution_count": 2,
   "metadata": {},
   "outputs": [
    {
     "name": "stdout",
     "output_type": "stream",
     "text": [
      "TIME\n",
      "numpy array shape: (498, 1)\n"
     ]
    }
   ],
   "source": [
    "# TIME\n",
    "# series of days (498 days between day 0-3648), not continuous\n",
    "# not only integer, contains several float\n",
    "print(\"TIME\")\n",
    "print(\"numpy array shape: {}\".format(data['TIME'].shape))"
   ]
  },
  {
   "cell_type": "code",
   "execution_count": null,
   "metadata": {},
   "outputs": [],
   "source": [
    "# WBHP\n",
    "# Well Bottom Hole Pressure\n",
    "# daily data 498 days for 104 models\n",
    "print(\"WBHP\")\n",
    "print(\"numpy array shape: {}\".format(data['WBHP'].shape))\n",
    "# Producers P1-P20\n",
    "# and Injectors I1-I10\n",
    "# shape of each is 498x104 double\n",
    "print(\"Producer P1 numpy array shape: {}\".format(data['WBHP'][0,0]['P1'].shape))\n",
    "print(\"Injectre I1 numpy array shape: {}\".format(data['WBHP'][0,0]['I1'].shape))"
   ]
  },
  {
   "cell_type": "code",
   "execution_count": null,
   "metadata": {},
   "outputs": [],
   "source": [
    "# WWCT\n",
    "# Well Water Cut: water/entire_liquid\n",
    "print(\"WWCT\")\n",
    "print(\"numpy array shape: {}\".format(data['WWCT'].shape))\n",
    "# Producers P1-P20\n",
    "print(\"Producer P1 numpy array shape: {}\".format(data['WWCT'][0,0]['P1'].shape))"
   ]
  },
  {
   "cell_type": "code",
   "execution_count": null,
   "metadata": {},
   "outputs": [],
   "source": [
    "# WOPR\n",
    "# Well Oil Production Rate: bbl/day\n",
    "# What we want to forecast, this will be used as label\n",
    "print(\"WOPR\")\n",
    "print(\"numpy array shape: {}\".format(data['WOPR'].shape))\n",
    "# Producers P1-P20, index 0-19\n",
    "print(\"Producer P1 numpy array shape: {}\".format(data['WOPR'][0,0]['P1'].shape))"
   ]
  },
  {
   "cell_type": "code",
   "execution_count": null,
   "metadata": {},
   "outputs": [],
   "source": [
    "# WWPR\n",
    "# Well Water Production Rate\n",
    "print(\"WWPR\")\n",
    "print(\"numpy array shape: {}\".format(data['WWPR'].shape))\n",
    "# Producers P1-P20\n",
    "print(\"Producer P1 numpy array shape: {}\".format(data['WWPR'][0,0]['P1'].shape))"
   ]
  },
  {
   "cell_type": "code",
   "execution_count": null,
   "metadata": {},
   "outputs": [],
   "source": [
    "# WWIR\n",
    "# Well Water Injection Rate\n",
    "print(\"WWIR\")\n",
    "print(\"numpy array shape: {}\".format(data['WWIR'].shape))\n",
    "# Injectors I1-I10\n",
    "print(\"Injector 1 numpy array shape: {}\".format(data['WWIR'][0,0]['I1'].shape))"
   ]
  },
  {
   "cell_type": "code",
   "execution_count": null,
   "metadata": {},
   "outputs": [],
   "source": [
    "# FOPT\n",
    "# Field Oil Production Total: sum of WOPR * days\n",
    "print(\"FOPT\")\n",
    "print(\"numpy array shape: {}\".format(data['FOPT'].shape))\n",
    "# FWPT\n",
    "# Field Water Production Total\n",
    "print(\"FWPT\")\n",
    "print(\"numpy array shape: {}\".format(data['FWPT'].shape))\n",
    "# FPR\n",
    "# Field Production Rate: FOPR + FWPR\n",
    "print(\"FPR\")\n",
    "print(\"numpy array shape: {}\".format(data['FPR'].shape))"
   ]
  },
  {
   "cell_type": "code",
   "execution_count": null,
   "metadata": {},
   "outputs": [],
   "source": [
    "# WWBT\n",
    "# Well W B Total\n",
    "print(\"WWBT\")\n",
    "print(\"numpy array shape: {}\".format(data['WWBT'].shape))\n",
    "# Producers P5,P11-P20\n",
    "print(\"Producer P5 numpy array shape: {}\".format(data['WWBT'][0,0]['P5'].shape))"
   ]
  },
  {
   "cell_type": "markdown",
   "metadata": {},
   "source": [
    "# Data Preparation\n",
    "\n",
    "각 model 별로 아래와 같은 Dataframe 을 만들자.\n",
    "\n",
    "|date|WOPR|WBHP|WWCT|WWPR|\n",
    "|--|--|--|--|--|\n",
    "|0.0|0.0|0.0|0.0|0.0|\n",
    "|1.0|0.0|0.0|0.0|0.0\n",
    "| . | . | . | . | . |\n",
    "|3641.0|1998.772|1393.615|0.001552|3.107502|\n",
    "|3648.0|1998.775|1393.951|0.001551|3.105065|"
   ]
  },
  {
   "cell_type": "code",
   "execution_count": 3,
   "metadata": {},
   "outputs": [
    {
     "data": {
      "text/plain": [
       "(False,\n",
       " dict_keys(['1', '2', '3', '4', '5', '6', '7', '8', '9', '10', '11', '12', '13', '14', '15', '16', '17', '18', '19', '20']))"
      ]
     },
     "execution_count": 3,
     "metadata": {},
     "output_type": "execute_result"
    }
   ],
   "source": [
    "#  'well_num' => dfs_dic\n",
    "dic_wells = {}\n",
    "contain_null = False\n",
    "for well_index in range(20): # well, Producer P1-P20\n",
    "    # 'model_num' => dataframe\n",
    "    dic_models = {}\n",
    "    well_key = 'P' + str(well_index+1)\n",
    "    for model_index in range(104): # model, model 1-104\n",
    "        well_data = np.array([\n",
    "            data['WOPR'][0,0][well_key][:,model_index],\n",
    "            data['WBHP'][0,0][well_key][:,model_index],\n",
    "            data['WWCT'][0,0][well_key][:,model_index],\n",
    "            data['WWPR'][0,0][well_key][:,model_index]\n",
    "          ])\n",
    "        # col1: WOPR, col2: WBHP, col3: WWCT, col4: WWPR\n",
    "        # row1: day1, ... row 498: day3648\n",
    "        well_data = well_data.T\n",
    "        df = pd.DataFrame(data=well_data,\n",
    "                          index=data['TIME'].flatten(),\n",
    "                          columns=['WOPR', 'WBHP', 'WWCT', 'WWPR'])\n",
    "        df.index.name = 'date'\n",
    "        if df.isnull().values.any():\n",
    "            contain_null = True\n",
    "        dic_models[str(model_index+1)] = df\n",
    "        \n",
    "    dic_wells[str(well_index+1)] = dic_models\n",
    "    \n",
    "contain_null, dic_wells.keys()"
   ]
  },
  {
   "cell_type": "code",
   "execution_count": null,
   "metadata": {},
   "outputs": [],
   "source": [
    "# [well_num][model_num]\n",
    "print(dic_wells['1']['1'].head())\n",
    "print(dic_wells['1']['1'].tail())\n",
    "print(dic_wells['20']['1'].head())\n",
    "print(dic_wells['20']['1'].tail())"
   ]
  },
  {
   "cell_type": "code",
   "execution_count": 5,
   "metadata": {},
   "outputs": [
    {
     "data": {
      "image/png": "[encoded data removed]",
      "text/plain": [
       "<Figure size 432x288 with 1 Axes>"
      ]
     },
     "metadata": {
      "needs_background": "light"
     },
     "output_type": "display_data"
    }
   ],
   "source": [
    "# plot well 20, model 1 data\n",
    "import matplotlib.pyplot as plt\n",
    "\n",
    "ax = plt.gca()\n",
    "\n",
    "for i in range(104):\n",
    "    df = dic_wells['20'][str(i + 1)]\n",
    "    # model #104 is true model\n",
    "    # while model #1-103 is equivalent model\n",
    "    if i == 103:\n",
    "        df.plot(y='WOPR', ax=ax, color='red', legend=False)\n",
    "    else:\n",
    "        df.plot(y='WOPR', ax=ax, color='gray', legend=False)\n",
    "\n",
    "plt.show()"
   ]
  },
  {
   "cell_type": "markdown",
   "metadata": {},
   "source": [
    "# Data Preprocessing for LSTM\n",
    "\n",
    "LSTM에 맞게 data를 전처리하자.\n",
    "Multivariate, multi-step Forecasting을 하는 것이 목적이다. \n",
    "\n",
    "Input dimension은 4로,\n",
    "\n",
    "- WOPR\n",
    "- WBHP\n",
    "- WWCT\n",
    "- WWPR\n",
    "\n",
    "을 사용한다.\n",
    "\n",
    "sequence(step size)는 5로 한다. 즉, 이전 5개(t-1, t-2, t-3, t-4, t-5)의 time step의 data를 input으로 하여 현재 time step t의 WOPR을 예측한다."
   ]
  },
  {
   "cell_type": "code",
   "execution_count": 6,
   "metadata": {},
   "outputs": [
    {
     "name": "stdout",
     "output_type": "stream",
     "text": [
      "(493, 24)\n",
      "        var1(t-5)  var2(t-5)  var3(t-5)  var4(t-5)  var1(t-4)  var2(t-4)  \\\n",
      "date                                                                       \n",
      "3620.0   0.065021   0.998405   0.999313   0.999312   0.064833   0.998408   \n",
      "3637.0   0.064833   0.998862   0.999512   0.999512   0.064458   0.999339   \n",
      "3638.0   0.064458   0.999794   0.999911   0.999911   0.064438   0.999389   \n",
      "3641.0   0.064438   0.999845   0.999933   0.999933   0.064375   0.999545   \n",
      "3648.0   0.064375   1.000000   1.000000   1.000000   0.064192   1.000000   \n",
      "\n",
      "        var3(t-4)  var4(t-4)  var1(t-3)  var2(t-3)  ...  var3(t-2)  var4(t-2)  \\\n",
      "date                                                ...                         \n",
      "3620.0   0.999316   0.999317   0.064458   0.998468  ...   0.999346   0.999347   \n",
      "3637.0   0.999716   0.999716   0.064438   0.998519  ...   0.999414   0.999414   \n",
      "3638.0   0.999737   0.999738   0.064375   0.998674  ...   0.999609   0.999609   \n",
      "3641.0   0.999804   0.999805   0.064192   0.999129  ...   0.999979   0.999979   \n",
      "3648.0   1.000000   1.000000   0.063844   1.000000  ...   1.000000   1.000000   \n",
      "\n",
      "        var1(t-1)  var2(t-1)  var3(t-1)  var4(t-1)   var1(t)   var2(t)  \\\n",
      "date                                                                     \n",
      "3620.0   0.064375   0.998470   0.999349   0.999349  0.064192  0.998575   \n",
      "3637.0   0.064192   0.998925   0.999544   0.999544  0.063844  0.999446   \n",
      "3638.0   0.063844   0.999796   0.999914   0.999914  0.063825  0.999496   \n",
      "3641.0   0.063825   0.999846   0.999935   0.999935  0.063763  0.999650   \n",
      "3648.0   0.063763   1.000000   1.000000   1.000000  0.063623  1.000000   \n",
      "\n",
      "         var3(t)   var4(t)  \n",
      "date                        \n",
      "3620.0  0.999396  0.999395  \n",
      "3637.0  0.999765  0.999765  \n",
      "3638.0  0.999786  0.999786  \n",
      "3641.0  0.999852  0.999851  \n",
      "3648.0  1.000000  1.000000  \n",
      "\n",
      "[5 rows x 24 columns]\n"
     ]
    }
   ],
   "source": [
    "def series_to_supervised(dataframe, n_in=1, n_out=1, dropnan=True):\n",
    "    '''\n",
    "    Frame a time series as a supervised learning dataset.\n",
    "    Arguments:\n",
    "        data: Sequence of observations as a dataframe\n",
    "        n_in: Number of lag observation as input, number of sequence\n",
    "        n_out: Number of observations as output, output dimension\n",
    "        dropnan: Boolean whether or not to drop rows with NaN values.\n",
    "    Returns:\n",
    "        Pandas DataFrame of series framed for supervised learning.\n",
    "    '''\n",
    "    n_vars = len(dataframe.columns)\n",
    "    cols, names = list(), list()\n",
    "    # input sequence (t-n, ..., t-1)\n",
    "    for i in range(n_in, 0, -1):\n",
    "        cols.append(dataframe.shift(i))\n",
    "        names += [('var%d(t-%d)' %(j+1, i)) for j in range(n_vars)]\n",
    "    # forecast sequence (t, ... , t+n)\n",
    "    for i in range(0, n_out):\n",
    "        cols.append(dataframe.shift(-i))\n",
    "        if i == 0:\n",
    "            names += [('var%d(t)' % (j+1)) for j in range(n_vars)]\n",
    "        else:\n",
    "            names += [('var%d(t+%d)' % (j+1,i)) for j in range(n_vars)]\n",
    "    # put it all together\n",
    "    agg = pd.concat(cols, axis=1)\n",
    "    agg.columns = names\n",
    "    if dropnan:\n",
    "        agg.dropna(inplace=True)\n",
    "    return agg\n",
    "\n",
    "from sklearn.preprocessing import MinMaxScaler\n",
    "\n",
    "scaler = MinMaxScaler()\n",
    "target_df = dic_wells['20']['103']\n",
    "\n",
    "reframed = series_to_supervised(target_df, n_in=5, n_out=1)\n",
    "reframed.loc[:, :] = scaler.fit_transform(reframed.loc[:, :])\n",
    "print(reframed.loc[:, :].shape)\n",
    "print(reframed.tail())"
   ]
  },
  {
   "cell_type": "markdown",
   "metadata": {},
   "source": [
    "training set과 test set을 분리하자."
   ]
  },
  {
   "cell_type": "code",
   "execution_count": 7,
   "metadata": {},
   "outputs": [
    {
     "name": "stdout",
     "output_type": "stream",
     "text": [
      "(147, 5, 4) (147,) (346, 5, 4) (346,)\n"
     ]
    }
   ],
   "source": [
    "eff_time_step = len(reframed[['var1(t)']])\n",
    "train_size = int(0.3 * eff_time_step)\n",
    "test_size = eff_time_step - train_size\n",
    "\n",
    "data_to_numpy = reframed.to_numpy()\n",
    "train, test = data_to_numpy[:train_size, :], data_to_numpy[train_size:, :]\n",
    "\n",
    "train_X, train_y = train[:, :-4], train[:, -4]\n",
    "test_X, test_y = test[:, :-4], test[:, -4]\n",
    "# reshape input to be 3D [samples, timesteps, features]\n",
    "input_timesteps = 5\n",
    "input_dimension = 4\n",
    "train_X = train_X.reshape((train_X.shape[0], input_timesteps, input_dimension))\n",
    "test_X = test_X.reshape((test_X.shape[0], input_timesteps, input_dimension))\n",
    "print(train_X.shape, train_y.shape, test_X.shape, test_y.shape)"
   ]
  },
  {
   "cell_type": "markdown",
   "metadata": {},
   "source": [
    "# Define and Fit the model"
   ]
  },
  {
   "cell_type": "code",
   "execution_count": 8,
   "metadata": {},
   "outputs": [
    {
     "name": "stderr",
     "output_type": "stream",
     "text": [
      "Using TensorFlow backend.\n"
     ]
    },
    {
     "name": "stdout",
     "output_type": "stream",
     "text": [
      "Model: \"sequential_1\"\n",
      "_________________________________________________________________\n",
      "Layer (type)                 Output Shape              Param #   \n",
      "=================================================================\n",
      "lstm_1 (LSTM)                (None, 50)                11000     \n",
      "_________________________________________________________________\n",
      "dense_1 (Dense)              (None, 1)                 51        \n",
      "=================================================================\n",
      "Total params: 11,051\n",
      "Trainable params: 11,051\n",
      "Non-trainable params: 0\n",
      "_________________________________________________________________\n"
     ]
    }
   ],
   "source": [
    "from keras.models import Sequential\n",
    "from keras.layers import Dense\n",
    "from keras.layers import LSTM\n",
    "\n",
    "# design the network\n",
    "model = Sequential()\n",
    "model.add(LSTM(50, input_shape=(input_timesteps, input_dimension)))\n",
    "model.add(Dense(1))\n",
    "\n",
    "model.summary()"
   ]
  },
  {
   "cell_type": "code",
   "execution_count": 9,
   "metadata": {},
   "outputs": [
    {
     "name": "stdout",
     "output_type": "stream",
     "text": [
      "Train on 147 samples, validate on 346 samples\n",
      "Epoch 1/50\n",
      " - 1s - loss: 0.4981 - val_loss: 0.0720\n",
      "Epoch 2/50\n",
      " - 0s - loss: 0.4302 - val_loss: 0.1342\n",
      "Epoch 3/50\n",
      " - 0s - loss: 0.3629 - val_loss: 0.2349\n",
      "Epoch 4/50\n",
      " - 0s - loss: 0.2939 - val_loss: 0.3580\n",
      "Epoch 5/50\n",
      " - 0s - loss: 0.2234 - val_loss: 0.4750\n",
      "Epoch 6/50\n",
      " - 0s - loss: 0.1750 - val_loss: 0.5387\n",
      "Epoch 7/50\n",
      " - 0s - loss: 0.1489 - val_loss: 0.5609\n",
      "Epoch 8/50\n",
      " - 0s - loss: 0.1331 - val_loss: 0.5510\n",
      "Epoch 9/50\n",
      " - 0s - loss: 0.1222 - val_loss: 0.5186\n",
      "Epoch 10/50\n",
      " - 0s - loss: 0.1138 - val_loss: 0.4717\n",
      "Epoch 11/50\n",
      " - 0s - loss: 0.1072 - val_loss: 0.4160\n",
      "Epoch 12/50\n",
      " - 0s - loss: 0.1026 - val_loss: 0.3567\n",
      "Epoch 13/50\n",
      " - 0s - loss: 0.0996 - val_loss: 0.2982\n",
      "Epoch 14/50\n",
      " - 0s - loss: 0.0973 - val_loss: 0.2432\n",
      "Epoch 15/50\n",
      " - 0s - loss: 0.0945 - val_loss: 0.1941\n",
      "Epoch 16/50\n",
      " - 0s - loss: 0.0890 - val_loss: 0.1682\n",
      "Epoch 17/50\n",
      " - 0s - loss: 0.0649 - val_loss: 0.1713\n",
      "Epoch 18/50\n",
      " - 0s - loss: 0.0369 - val_loss: 0.1557\n",
      "Epoch 19/50\n",
      " - 0s - loss: 0.0426 - val_loss: 0.1042\n",
      "Epoch 20/50\n",
      " - 0s - loss: 0.0382 - val_loss: 0.0658\n",
      "Epoch 21/50\n",
      " - 0s - loss: 0.0377 - val_loss: 0.0709\n",
      "Epoch 22/50\n",
      " - 0s - loss: 0.0328 - val_loss: 0.0969\n",
      "Epoch 23/50\n",
      " - 0s - loss: 0.0429 - val_loss: 0.0980\n",
      "Epoch 24/50\n",
      " - 0s - loss: 0.0319 - val_loss: 0.0960\n",
      "Epoch 25/50\n",
      " - 0s - loss: 0.0301 - val_loss: 0.1123\n",
      "Epoch 26/50\n",
      " - 0s - loss: 0.0299 - val_loss: 0.1089\n",
      "Epoch 27/50\n",
      " - 0s - loss: 0.0323 - val_loss: 0.1040\n",
      "Epoch 28/50\n",
      " - 0s - loss: 0.0290 - val_loss: 0.1047\n",
      "Epoch 29/50\n",
      " - 0s - loss: 0.0285 - val_loss: 0.0985\n",
      "Epoch 30/50\n",
      " - 0s - loss: 0.0293 - val_loss: 0.0961\n",
      "Epoch 31/50\n",
      " - 0s - loss: 0.0307 - val_loss: 0.0906\n",
      "Epoch 32/50\n",
      " - 0s - loss: 0.0292 - val_loss: 0.0951\n",
      "Epoch 33/50\n",
      " - 0s - loss: 0.0286 - val_loss: 0.0920\n",
      "Epoch 34/50\n",
      " - 0s - loss: 0.0296 - val_loss: 0.0934\n",
      "Epoch 35/50\n",
      " - 0s - loss: 0.0277 - val_loss: 0.0946\n",
      "Epoch 36/50\n",
      " - 0s - loss: 0.0296 - val_loss: 0.0929\n",
      "Epoch 37/50\n",
      " - 0s - loss: 0.0279 - val_loss: 0.0944\n",
      "Epoch 38/50\n",
      " - 0s - loss: 0.0288 - val_loss: 0.0875\n",
      "Epoch 39/50\n",
      " - 0s - loss: 0.0274 - val_loss: 0.0860\n",
      "Epoch 40/50\n",
      " - 0s - loss: 0.0304 - val_loss: 0.0858\n",
      "Epoch 41/50\n",
      " - 0s - loss: 0.0276 - val_loss: 0.0891\n",
      "Epoch 42/50\n",
      " - 0s - loss: 0.0292 - val_loss: 0.0825\n",
      "Epoch 43/50\n",
      " - 0s - loss: 0.0287 - val_loss: 0.0841\n",
      "Epoch 44/50\n",
      " - 0s - loss: 0.0288 - val_loss: 0.0820\n",
      "Epoch 45/50\n",
      " - 0s - loss: 0.0271 - val_loss: 0.0788\n",
      "Epoch 46/50\n",
      " - 0s - loss: 0.0304 - val_loss: 0.0752\n",
      "Epoch 47/50\n",
      " - 0s - loss: 0.0275 - val_loss: 0.0829\n",
      "Epoch 48/50\n",
      " - 0s - loss: 0.0284 - val_loss: 0.0785\n",
      "Epoch 49/50\n",
      " - 0s - loss: 0.0271 - val_loss: 0.0798\n",
      "Epoch 50/50\n",
      " - 0s - loss: 0.0282 - val_loss: 0.0795\n"
     ]
    }
   ],
   "source": [
    "model.compile(loss='mae', optimizer='adam')\n",
    "# fit network\n",
    "history = model.fit(train_X, train_y, epochs=50, batch_size=72, validation_data=(test_X, test_y), verbose=2, shuffle=False)"
   ]
  },
  {
   "cell_type": "code",
   "execution_count": 10,
   "metadata": {},
   "outputs": [
    {
     "data": {
      "image/png": "[encoded data removed]",
      "text/plain": [
       "<Figure size 432x288 with 1 Axes>"
      ]
     },
     "metadata": {
      "needs_background": "light"
     },
     "output_type": "display_data"
    }
   ],
   "source": [
    "# plot history\n",
    "plt.plot(history.history['loss'], label='train')\n",
    "plt.plot(history.history['val_loss'], label='test')\n",
    "plt.legend()\n",
    "plt.show()"
   ]
  },
  {
   "cell_type": "markdown",
   "metadata": {},
   "source": [
    "# Evaluate the model"
   ]
  },
  {
   "cell_type": "code",
   "execution_count": 11,
   "metadata": {},
   "outputs": [],
   "source": [
    "# make a prediction\n",
    "y_hat = model.predict(test_X)\n",
    "# test_X = np.concatenate((train_X, test_X))\n",
    "# y_hat = model.predict(test_X)\n",
    "test_X = test_X.reshape(test_X.shape[0], input_timesteps * input_dimension)"
   ]
  },
  {
   "cell_type": "code",
   "execution_count": 12,
   "metadata": {},
   "outputs": [
    {
     "data": {
      "image/png": "[encoded data removed]",
      "text/plain": [
       "<Figure size 432x288 with 1 Axes>"
      ]
     },
     "metadata": {
      "needs_background": "light"
     },
     "output_type": "display_data"
    }
   ],
   "source": [
    "evaluate_array = np.array([\n",
    "    np.concatenate((train_y, y_hat), axis=None),\n",
    "#     y_hat.flatten(),\n",
    "    np.concatenate((train_y, test_y), axis=None)\n",
    "])                  \n",
    "df = pd.DataFrame(data=evaluate_array.T, columns=['prediction', 'true'])\n",
    "\n",
    "plt.plot(df[['prediction']], linestyle='-', label='prediction')\n",
    "plt.plot(df[['true']], linestyle='-',label = 'true')\n",
    "plt.legend()\n",
    "plt.show()"
   ]
  },
  {
   "cell_type": "code",
   "execution_count": 13,
   "metadata": {},
   "outputs": [
    {
     "name": "stdout",
     "output_type": "stream",
     "text": [
      "(346, 1)\n",
      "(346, 24)\n"
     ]
    }
   ],
   "source": [
    "# invert scaling for forecast\n",
    "inv_y_hat = np.concatenate((y_hat, test[:, 1:]), axis = 1)\n",
    "print(y_hat.shape)\n",
    "# print(y_hat)\n",
    "# print(test_X.shape)\n",
    "# print(test_X)\n",
    "print(inv_y_hat.shape)\n",
    "inv_y_hat = scaler.inverse_transform(inv_y_hat)\n",
    "inv_y_hat = inv_y_hat[:, 0]\n",
    "# invert scaling for actual\n",
    "test_y = test_y.reshape((len(test_y), 1))\n",
    "# print(test_y.shape, test_X[:, 1:].shape)\n",
    "inv_y = np.concatenate((test_y, test[:, 1:]), axis=1)\n",
    "inv_y = scaler.inverse_transform(inv_y)\n",
    "inv_y = inv_y[:, 0]"
   ]
  },
  {
   "cell_type": "code",
   "execution_count": 14,
   "metadata": {},
   "outputs": [
    {
     "name": "stdout",
     "output_type": "stream",
     "text": [
      "Test RMSE: 173.960\n"
     ]
    }
   ],
   "source": [
    "# calculate RMSE\n",
    "from math import sqrt\n",
    "from sklearn.metrics import mean_squared_error\n",
    "\n",
    "rmse = sqrt(mean_squared_error(inv_y, inv_y_hat))\n",
    "print('Test RMSE: %.3f' % rmse)"
   ]
  }
 ],
 "metadata": {
  "kernelspec": {
   "display_name": "Python 3",
   "language": "python",
   "name": "python3"
  },
  "language_info": {
   "codemirror_mode": {
    "name": "ipython",
    "version": 3
   },
   "file_extension": ".py",
   "mimetype": "text/x-python",
   "name": "python",
   "nbconvert_exporter": "python",
   "pygments_lexer": "ipython3",
   "version": "3.7.4"
  }
 },
 "nbformat": 4,
 "nbformat_minor": 2
}
