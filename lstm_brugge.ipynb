{
 "cells": [
  {
   "cell_type": "markdown",
   "metadata": {},
   "source": [
    "## Load Data"
   ]
  },
  {
   "cell_type": "code",
   "execution_count": 2,
   "metadata": {},
   "outputs": [],
   "source": [
    "import numpy as np\n",
    "from os.path import dirname, join as pjoin\n",
    "import scipy.io as sio\n",
    "import pandas as pd\n",
    "\n",
    "DATA_PATH = './data'\n",
    "DATA_FILE_NAME = 'Brugge_en_d.mat'\n",
    "\n",
    "data_dir = pjoin(DATA_PATH, DATA_FILE_NAME)\n",
    "mat_contents = sio.loadmat(data_dir)"
   ]
  },
  {
   "cell_type": "code",
   "execution_count": 3,
   "metadata": {},
   "outputs": [
    {
     "name": "stdout",
     "output_type": "stream",
     "text": [
      "Type: <class 'numpy.ndarray'>, Shape (1, 1)\n"
     ]
    }
   ],
   "source": [
    "print(\"Type: {0}, Shape {1}\".format(type(mat_contents['en_d']), mat_contents['en_d'].shape))\n",
    "data = mat_contents['en_d'][0, 0]"
   ]
  },
  {
   "cell_type": "code",
   "execution_count": 4,
   "metadata": {},
   "outputs": [
    {
     "name": "stdout",
     "output_type": "stream",
     "text": [
      "TIME\n",
      "numpy array shape: (498, 1)\n"
     ]
    }
   ],
   "source": [
    "# TIME\n",
    "# series of days (498 days between day 0-3648), not continuous\n",
    "# not only integer, contains several float\n",
    "print(\"TIME\")\n",
    "print(\"numpy array shape: {}\".format(data['TIME'].shape))"
   ]
  },
  {
   "cell_type": "code",
   "execution_count": 7,
   "metadata": {},
   "outputs": [
    {
     "name": "stdout",
     "output_type": "stream",
     "text": [
      "WBHP\n",
      "numpy array shape: (1, 1)\n",
      "Producer P1 numpy array shape: (498, 104)\n",
      "Injectre I1 numpy array shape: (498, 104)\n"
     ]
    }
   ],
   "source": [
    "# WBHP\n",
    "# Well Bottom Hole Pressure\n",
    "# daily data 498 days for 104 models\n",
    "print(\"WBHP\")\n",
    "print(\"numpy array shape: {}\".format(data['WBHP'].shape))\n",
    "# Producers P1-P20, index 0-19\n",
    "# and Injectors I1-I10, index 20-29\n",
    "# shape of each is 498x104 double\n",
    "print(\"Producer P1 numpy array shape: {}\".format(data['WBHP'][0,0][0].shape))\n",
    "print(\"Injectre I1 numpy array shape: {}\".format(data['WBHP'][0,0][20].shape))"
   ]
  },
  {
   "cell_type": "code",
   "execution_count": 8,
   "metadata": {},
   "outputs": [
    {
     "name": "stdout",
     "output_type": "stream",
     "text": [
      "WWCT\n",
      "numpy array shape: (1, 1)\n",
      "Producer P1 numpy array shape: (498, 104)\n"
     ]
    }
   ],
   "source": [
    "# WWCT\n",
    "# Well Water Cut: water/entire_liquid\n",
    "print(\"WWCT\")\n",
    "print(\"numpy array shape: {}\".format(data['WWCT'].shape))\n",
    "# Producers P1-P20, index 0-19\n",
    "print(\"Producer P1 numpy array shape: {}\".format(data['WWCT'][0,0][0].shape))"
   ]
  },
  {
   "cell_type": "code",
   "execution_count": 17,
   "metadata": {},
   "outputs": [
    {
     "name": "stdout",
     "output_type": "stream",
     "text": [
      "WOPR\n",
      "numpy array shape: (1, 1)\n",
      "Producer P1 numpy array shape: (498, 104)\n"
     ]
    }
   ],
   "source": [
    "# WOPR\n",
    "# Well Oil Production Rate: bbl/day\n",
    "# What we want to forecast, this will be used as label\n",
    "print(\"WOPR\")\n",
    "print(\"numpy array shape: {}\".format(data['WOPR'].shape))\n",
    "# Producers P1-P20, index 0-19\n",
    "print(\"Producer P1 numpy array shape: {}\".format(data['WOPR'][0,0][0].shape))"
   ]
  },
  {
   "cell_type": "code",
   "execution_count": 11,
   "metadata": {},
   "outputs": [
    {
     "name": "stdout",
     "output_type": "stream",
     "text": [
      "WWPR\n",
      "numpy array shape: (1, 1)\n",
      "Producer P1 numpy array shape: (498, 104)\n"
     ]
    }
   ],
   "source": [
    "# WWPR\n",
    "# Well Water Production Rate\n",
    "print(\"WWPR\")\n",
    "print(\"numpy array shape: {}\".format(data['WWPR'].shape))\n",
    "# Producers P1-P20, index 0-19\n",
    "print(\"Producer P1 numpy array shape: {}\".format(data['WWPR'][0,0][0].shape))"
   ]
  },
  {
   "cell_type": "code",
   "execution_count": 12,
   "metadata": {},
   "outputs": [
    {
     "name": "stdout",
     "output_type": "stream",
     "text": [
      "WWIR\n",
      "numpy array shape: (1, 1)\n",
      "Producer P1 numpy array shape: (498, 104)\n"
     ]
    }
   ],
   "source": [
    "# WWIR\n",
    "# Well Water Injection Rate\n",
    "print(\"WWIR\")\n",
    "print(\"numpy array shape: {}\".format(data['WWIR'].shape))\n",
    "# Producers P1-P20, index 0-19\n",
    "print(\"Producer P1 numpy array shape: {}\".format(data['WWIR'][0,0][0].shape))"
   ]
  },
  {
   "cell_type": "code",
   "execution_count": 14,
   "metadata": {},
   "outputs": [
    {
     "name": "stdout",
     "output_type": "stream",
     "text": [
      "FOPT\n",
      "numpy array shape: (498, 104)\n",
      "FWPT\n",
      "numpy array shape: (498, 104)\n",
      "FPR\n",
      "numpy array shape: (498, 104)\n"
     ]
    }
   ],
   "source": [
    "# FOPT\n",
    "# Field Oil Production Total: sum of WOPR * days\n",
    "print(\"FOPT\")\n",
    "print(\"numpy array shape: {}\".format(data['FOPT'].shape))\n",
    "# FWPT\n",
    "# Field Oil Production Total\n",
    "print(\"FWPT\")\n",
    "print(\"numpy array shape: {}\".format(data['FWPT'].shape))\n",
    "# FPR\n",
    "# Field Production Rate: FOPR + FWPR\n",
    "print(\"FPR\")\n",
    "print(\"numpy array shape: {}\".format(data['FPR'].shape))"
   ]
  },
  {
   "cell_type": "code",
   "execution_count": 15,
   "metadata": {},
   "outputs": [
    {
     "name": "stdout",
     "output_type": "stream",
     "text": [
      "WWBT\n",
      "numpy array shape: (1, 1)\n",
      "Producer P5 numpy array shape: (1, 104)\n"
     ]
    }
   ],
   "source": [
    "# WWBT\n",
    "# Well W B Total\n",
    "print(\"WWBT\")\n",
    "print(\"numpy array shape: {}\".format(data['WWBT'].shape))\n",
    "# Producers P5,P11-P20, index 0-10\n",
    "print(\"Producer P5 numpy array shape: {}\".format(data['WWBT'][0,0][0].shape))"
   ]
  },
  {
   "cell_type": "code",
   "execution_count": null,
   "metadata": {},
   "outputs": [],
   "source": []
  }
 ],
 "metadata": {
  "kernelspec": {
   "display_name": "Python 3",
   "language": "python",
   "name": "python3"
  },
  "language_info": {
   "codemirror_mode": {
    "name": "ipython",
    "version": 3
   },
   "file_extension": ".py",
   "mimetype": "text/x-python",
   "name": "python",
   "nbconvert_exporter": "python",
   "pygments_lexer": "ipython3",
   "version": "3.7.6"
  }
 },
 "nbformat": 4,
 "nbformat_minor": 2
}
