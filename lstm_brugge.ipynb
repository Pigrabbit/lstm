{
 "cells": [
  {
   "cell_type": "markdown",
   "metadata": {},
   "source": [
    "## Load Data"
   ]
  },
  {
   "cell_type": "code",
   "execution_count": 2,
   "metadata": {},
   "outputs": [],
   "source": [
    "import numpy as np\n",
    "from os.path import dirname, join as pjoin\n",
    "import scipy.io as sio\n",
    "import pandas as pd\n",
    "import tensorflow as tf\n",
    "\n",
    "DATA_PATH = './data'\n",
    "DATA_FILE_NAME = 'Brugge_en_d.mat'\n",
    "\n",
    "data_dir = pjoin(DATA_PATH, DATA_FILE_NAME)\n",
    "mat_contents = sio.loadmat(data_dir)\n",
    "\n",
    "data = mat_contents['en_d'][0, 0]\n",
    "\n",
    "tf.debugging.set_log_device_placement(True)"
   ]
  },
  {
   "cell_type": "code",
   "execution_count": null,
   "metadata": {},
   "outputs": [],
   "source": [
    "# TIME\n",
    "# series of days (498 days between day 0-3648), not continuous\n",
    "# not only integer, contains several float\n",
    "print(\"TIME\")\n",
    "print(\"numpy array shape: {}\".format(data['TIME'].shape))"
   ]
  },
  {
   "cell_type": "code",
   "execution_count": null,
   "metadata": {},
   "outputs": [],
   "source": [
    "# WBHP\n",
    "# Well Bottom Hole Pressure\n",
    "# daily data 498 days for 104 models\n",
    "print(\"WBHP\")\n",
    "print(\"numpy array shape: {}\".format(data['WBHP'].shape))\n",
    "# Producers P1-P20\n",
    "# and Injectors I1-I10\n",
    "# shape of each is 498x104 double\n",
    "print(\"Producer P1 numpy array shape: {}\".format(data['WBHP'][0,0]['P1'].shape))\n",
    "print(\"Injectre I1 numpy array shape: {}\".format(data['WBHP'][0,0]['I1'].shape))"
   ]
  },
  {
   "cell_type": "code",
   "execution_count": null,
   "metadata": {},
   "outputs": [],
   "source": [
    "# WWCT\n",
    "# Well Water Cut: water/entire_liquid\n",
    "print(\"WWCT\")\n",
    "print(\"numpy array shape: {}\".format(data['WWCT'].shape))\n",
    "# Producers P1-P20\n",
    "print(\"Producer P1 numpy array shape: {}\".format(data['WWCT'][0,0]['P1'].shape))"
   ]
  },
  {
   "cell_type": "code",
   "execution_count": null,
   "metadata": {},
   "outputs": [],
   "source": [
    "# WOPR\n",
    "# Well Oil Production Rate: bbl/day\n",
    "# What we want to forecast, this will be used as label\n",
    "print(\"WOPR\")\n",
    "print(\"numpy array shape: {}\".format(data['WOPR'].shape))\n",
    "# Producers P1-P20, index 0-19\n",
    "print(\"Producer P1 numpy array shape: {}\".format(data['WOPR'][0,0]['P1'].shape))"
   ]
  },
  {
   "cell_type": "code",
   "execution_count": null,
   "metadata": {},
   "outputs": [],
   "source": [
    "# WWPR\n",
    "# Well Water Production Rate\n",
    "print(\"WWPR\")\n",
    "print(\"numpy array shape: {}\".format(data['WWPR'].shape))\n",
    "# Producers P1-P20\n",
    "print(\"Producer P1 numpy array shape: {}\".format(data['WWPR'][0,0]['P1'].shape))"
   ]
  },
  {
   "cell_type": "code",
   "execution_count": null,
   "metadata": {},
   "outputs": [],
   "source": [
    "# WWIR\n",
    "# Well Water Injection Rate\n",
    "print(\"WWIR\")\n",
    "print(\"numpy array shape: {}\".format(data['WWIR'].shape))\n",
    "# Injectors I1-I10\n",
    "print(\"Injector 1 numpy array shape: {}\".format(data['WWIR'][0,0]['I1'].shape))"
   ]
  },
  {
   "cell_type": "code",
   "execution_count": null,
   "metadata": {},
   "outputs": [],
   "source": [
    "# FOPT\n",
    "# Field Oil Production Total: sum of WOPR * days\n",
    "print(\"FOPT\")\n",
    "print(\"numpy array shape: {}\".format(data['FOPT'].shape))\n",
    "# FWPT\n",
    "# Field Water Production Total\n",
    "print(\"FWPT\")\n",
    "print(\"numpy array shape: {}\".format(data['FWPT'].shape))\n",
    "# FPR\n",
    "# Field Production Rate: FOPR + FWPR\n",
    "print(\"FPR\")\n",
    "print(\"numpy array shape: {}\".format(data['FPR'].shape))"
   ]
  },
  {
   "cell_type": "code",
   "execution_count": null,
   "metadata": {},
   "outputs": [],
   "source": [
    "# WWBT\n",
    "# Well W B Total\n",
    "print(\"WWBT\")\n",
    "print(\"numpy array shape: {}\".format(data['WWBT'].shape))\n",
    "# Producers P5,P11-P20\n",
    "print(\"Producer P5 numpy array shape: {}\".format(data['WWBT'][0,0]['P5'].shape))"
   ]
  },
  {
   "cell_type": "markdown",
   "metadata": {},
   "source": [
    "# Data Preparation\n",
    "\n",
    "각 model 별로 아래와 같은 Dataframe 을 만들자.\n",
    "\n",
    "|date|WOPR|WBHP|WWCT|WWPR|\n",
    "|--|--|--|--|--|\n",
    "|0.0|0.0|0.0|0.0|0.0|\n",
    "|1.0|0.0|0.0|0.0|0.0\n",
    "| . | . | . | . | . |\n",
    "|3641.0|1998.772|1393.615|0.001552|3.107502|\n",
    "|3648.0|1998.775|1393.951|0.001551|3.105065|"
   ]
  },
  {
   "cell_type": "code",
   "execution_count": 4,
   "metadata": {},
   "outputs": [
    {
     "data": {
      "text/plain": [
       "(False,\n",
       " dict_keys(['1', '2', '3', '4', '5', '6', '7', '8', '9', '10', '11', '12', '13', '14', '15', '16', '17', '18', '19', '20', '21', '22', '23', '24', '25', '26', '27', '28', '29', '30', '31', '32', '33', '34', '35', '36', '37', '38', '39', '40', '41', '42', '43', '44', '45', '46', '47', '48', '49', '50', '51', '52', '53', '54', '55', '56', '57', '58', '59', '60', '61', '62', '63', '64', '65', '66', '67', '68', '69', '70', '71', '72', '73', '74', '75', '76', '77', '78', '79', '80', '81', '82', '83', '84', '85', '86', '87', '88', '89', '90', '91', '92', '93', '94', '95', '96', '97', '98', '99', '100', '101', '102', '103', '104']))"
      ]
     },
     "execution_count": 4,
     "metadata": {},
     "output_type": "execute_result"
    }
   ],
   "source": [
    "#  'well_num' => dfs_dic\n",
    "dic_wells = {}\n",
    "contain_null = False\n",
    "for well_index in range(20): # well, Producer P1-P20\n",
    "    # 'model_num' => dataframe\n",
    "    dic_models = {}\n",
    "    well_key = 'P' + str(well_index+1)\n",
    "    for model_index in range(104): # model, model 1-104\n",
    "        well_data = np.array([\n",
    "            data['WOPR'][0,0][well_key][:,model_index],\n",
    "            data['WBHP'][0,0][well_key][:,model_index],\n",
    "            data['WWCT'][0,0][well_key][:,model_index],\n",
    "            data['WWPR'][0,0][well_key][:,model_index]\n",
    "          ])\n",
    "        # col1: WOPR, col2: WBHP, col3: WWCT, col4: WWPR\n",
    "        # row1: day1, ... row 498: day3648\n",
    "        well_data = well_data.T\n",
    "        df = pd.DataFrame(data=well_data,\n",
    "                          index=data['TIME'].flatten(),\n",
    "                          columns=['WOPR', 'WBHP', 'WWCT', 'WWPR'])\n",
    "        df.index.name = 'date'\n",
    "        if df.isnull().values.any():\n",
    "            contain_null = True\n",
    "        dic_models[str(model_index+1)] = df\n",
    "        \n",
    "    dic_wells[str(well_index+1)] = dic_models\n",
    "    \n",
    "contain_null, dic_wells['20'].keys()"
   ]
  },
  {
   "cell_type": "code",
   "execution_count": null,
   "metadata": {},
   "outputs": [],
   "source": [
    "# [well_num][model_num]\n",
    "print(dic_wells['1']['1'].head())\n",
    "print(dic_wells['1']['1'].tail())\n",
    "print(dic_wells['20']['1'].head())\n",
    "print(dic_wells['20']['1'].tail())"
   ]
  },
  {
   "cell_type": "code",
   "execution_count": null,
   "metadata": {},
   "outputs": [],
   "source": [
    "# plot well 20, model 1 data\n",
    "import matplotlib.pyplot as plt\n",
    "\n",
    "ax = plt.gca()\n",
    "\n",
    "for i in range(104):\n",
    "    df = dic_wells['20'][str(i + 1)]\n",
    "    # model #104 is true model\n",
    "    # while model #1-103 is equivalent model\n",
    "    if i == 103:\n",
    "        df.plot(y='WOPR', ax=ax, color='red', legend=False)\n",
    "    else:\n",
    "        df.plot(y='WOPR', ax=ax, color='gray', legend=False)\n",
    "\n",
    "plt.show()"
   ]
  },
  {
   "cell_type": "markdown",
   "metadata": {},
   "source": [
    "# Data Preprocessing for LSTM\n",
    "\n",
    "LSTM에 맞게 data를 전처리하자.\n",
    "Multivariate, multi-step Forecasting을 하는 것이 목적이다. \n",
    "\n",
    "Input dimension은 4로,\n",
    "\n",
    "- WOPR\n",
    "- WBHP\n",
    "- WWCT\n",
    "- WWPR\n",
    "\n",
    "을 사용한다.\n",
    "\n",
    "sequence(step size)는 5로 한다. 즉, 이전 5개(t-1, t-2, t-3, t-4, t-5)의 time step의 data를 input으로 하여 현재 time step t의 WOPR을 예측한다."
   ]
  },
  {
   "cell_type": "code",
   "execution_count": null,
   "metadata": {},
   "outputs": [],
   "source": [
    "def series_to_supervised(dataframe, n_in=1, n_out=1, dropnan=True):\n",
    "    '''\n",
    "    Frame a time series as a supervised learning dataset.\n",
    "    Arguments:\n",
    "        data: Sequence of observations as a dataframe\n",
    "        n_in: Number of lag observation as input, number of sequence\n",
    "        n_out: Number of observations as output, output dimension\n",
    "        dropnan: Boolean whether or not to drop rows with NaN values.\n",
    "    Returns:\n",
    "        Pandas DataFrame of series framed for supervised learning.\n",
    "    '''\n",
    "    n_vars = len(dataframe.columns)\n",
    "    cols, names = list(), list()\n",
    "    # input sequence (t-n, ..., t-1)\n",
    "    for i in range(n_in, 0, -1):\n",
    "        cols.append(dataframe.shift(i))\n",
    "        names += [('var%d(t-%d)' %(j+1, i)) for j in range(n_vars)]\n",
    "    # forecast sequence (t, ... , t+n)\n",
    "    for i in range(0, n_out):\n",
    "        cols.append(dataframe.shift(-i))\n",
    "        if i == 0:\n",
    "            names += [('var%d(t)' % (j+1)) for j in range(n_vars)]\n",
    "        else:\n",
    "            names += [('var%d(t+%d)' % (j+1,i)) for j in range(n_vars)]\n",
    "    # put it all together\n",
    "    agg = pd.concat(cols, axis=1)\n",
    "    agg.columns = names\n",
    "    if dropnan:\n",
    "        agg.dropna(inplace=True)\n",
    "    return agg\n",
    "\n",
    "from sklearn.preprocessing import MinMaxScaler\n",
    "\n",
    "scaler = MinMaxScaler()\n",
    "target_df = dic_wells['20']['103']\n",
    "\n",
    "reframed = series_to_supervised(target_df, n_in=5, n_out=1)\n",
    "print(reframed.loc[:, :].shape)\n",
    "print(reframed.tail())"
   ]
  },
  {
   "cell_type": "code",
   "execution_count": null,
   "metadata": {},
   "outputs": [],
   "source": [
    "eff_time_step = len(reframed[['var1(t)']])\n",
    "train_size = int(0.3 * eff_time_step)\n",
    "test_size = eff_time_step - train_size\n",
    "\n",
    "train_split = data['TIME'][train_size+4][0]\n",
    "# print(reframed.loc[:train_split,:].shape)\n",
    "scaler = scaler.fit(reframed.loc[:train_split,:])\n",
    "\n",
    "reframed.loc[:, :] = scaler.transform(reframed.loc[:, :])\n",
    "print(reframed.tail())"
   ]
  },
  {
   "cell_type": "markdown",
   "metadata": {},
   "source": [
    "training set과 test set을 분리하자."
   ]
  },
  {
   "cell_type": "code",
   "execution_count": null,
   "metadata": {},
   "outputs": [],
   "source": [
    "data_to_numpy = reframed.to_numpy()\n",
    "train, test = data_to_numpy[:train_size, :], data_to_numpy[train_size:, :]\n",
    "\n",
    "train_X, train_y = train[:, :-4], train[:, -4]\n",
    "test_X, test_y = test[:, :-4], test[:, -4]\n",
    "# reshape input to be 3D [samples, timesteps, features]\n",
    "input_timesteps = 5\n",
    "input_dimension = 4\n",
    "train_X = train_X.reshape((train_X.shape[0], input_timesteps, input_dimension))\n",
    "test_X = test_X.reshape((test_X.shape[0], input_timesteps, input_dimension))\n",
    "print(train_X.shape, train_y.shape, test_X.shape, test_y.shape)"
   ]
  },
  {
   "cell_type": "markdown",
   "metadata": {},
   "source": [
    "# Define and Fit the model"
   ]
  },
  {
   "cell_type": "code",
   "execution_count": null,
   "metadata": {},
   "outputs": [],
   "source": [
    "from tensorflow.keras.models import Sequential\n",
    "from tensorflow.keras.layers import Dense\n",
    "from tensorflow.keras.layers import LSTM\n",
    "\n",
    "# design the network\n",
    "model = Sequential()\n",
    "model.add(LSTM(25, input_shape=(input_timesteps, input_dimension)))\n",
    "model.add(Dense(1))\n",
    "\n",
    "model.summary()"
   ]
  },
  {
   "cell_type": "code",
   "execution_count": null,
   "metadata": {},
   "outputs": [],
   "source": [
    "model.compile(loss='mae', optimizer='adam')\n",
    "# fit network\n",
    "history = model.fit(train_X, train_y, epochs=50, batch_size=24, validation_data=(test_X, test_y), verbose=2, shuffle=False)"
   ]
  },
  {
   "cell_type": "code",
   "execution_count": null,
   "metadata": {},
   "outputs": [],
   "source": [
    "# plot history\n",
    "plt.plot(history.history['loss'], label='train')\n",
    "plt.plot(history.history['val_loss'], label='test')\n",
    "plt.legend()\n",
    "plt.show()"
   ]
  },
  {
   "cell_type": "markdown",
   "metadata": {},
   "source": [
    "# Evaluate the model"
   ]
  },
  {
   "cell_type": "code",
   "execution_count": null,
   "metadata": {},
   "outputs": [],
   "source": [
    "# make a prediction\n",
    "y_hat = model.predict(test_X)\n",
    "test_X = test_X.reshape(test_X.shape[0], input_timesteps * input_dimension)\n",
    "\n",
    "scale = 1/scaler.scale_[-4]"
   ]
  },
  {
   "cell_type": "code",
   "execution_count": null,
   "metadata": {},
   "outputs": [],
   "source": [
    "evaluate_array = np.array([\n",
    "    np.concatenate((train_y, y_hat), axis=None),\n",
    "    np.concatenate((train_y, test_y), axis=None)\n",
    "])\n",
    "\n",
    "df = pd.DataFrame(data=evaluate_array.T, columns=['prediction', 'true'])\n",
    "\n",
    "plt.plot(data['TIME'][5:], df[['prediction']] * scale, linestyle='-', label='prediction')\n",
    "plt.plot(data['TIME'][5:], df[['true']] * scale, linestyle='-',label = 'true')\n",
    "plt.legend()\n",
    "plt.show()"
   ]
  },
  {
   "cell_type": "code",
   "execution_count": null,
   "metadata": {},
   "outputs": [],
   "source": [
    "# invert scaling for forecast\n",
    "inv_y_hat = np.concatenate((y_hat, test[:, 1:]), axis = 1)\n",
    "print(y_hat.shape)\n",
    "# print(y_hat)\n",
    "# print(test_X.shape)\n",
    "# print(test_X)\n",
    "print(inv_y_hat.shape)\n",
    "inv_y_hat = scaler.inverse_transform(inv_y_hat)\n",
    "inv_y_hat = inv_y_hat[:, 0]\n",
    "\n",
    "\n",
    "# invert scaling for actual\n",
    "test_y = test_y.reshape((len(test_y), 1))\n",
    "# print(test_y.shape, test_X[:, 1:].shape)\n",
    "inv_y = np.concatenate((test_y, test[:, 1:]), axis=1)\n",
    "inv_y = scaler.inverse_transform(inv_y)\n",
    "inv_y = inv_y[:, 0]"
   ]
  },
  {
   "cell_type": "code",
   "execution_count": null,
   "metadata": {},
   "outputs": [],
   "source": [
    "# calculate RMSE\n",
    "from math import sqrt\n",
    "from sklearn.metrics import mean_squared_error\n",
    "\n",
    "rmse = sqrt(mean_squared_error(inv_y, inv_y_hat))\n",
    "print('Test RMSE: %.3f' % rmse)"
   ]
  },
  {
   "cell_type": "code",
   "execution_count": null,
   "metadata": {},
   "outputs": [],
   "source": []
  }
 ],
 "metadata": {
  "kernelspec": {
   "display_name": "Python 3",
   "language": "python",
   "name": "python3"
  },
  "language_info": {
   "codemirror_mode": {
    "name": "ipython",
    "version": 3
   },
   "file_extension": ".py",
   "mimetype": "text/x-python",
   "name": "python",
   "nbconvert_exporter": "python",
   "pygments_lexer": "ipython3",
   "version": "3.7.1"
  }
 },
 "nbformat": 4,
 "nbformat_minor": 2
}
